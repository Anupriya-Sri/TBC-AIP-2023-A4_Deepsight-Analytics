{
 "cells": [
  {
   "cell_type": "code",
   "execution_count": 5,
   "id": "40b7ea76",
   "metadata": {},
   "outputs": [],
   "source": [
    "#import time # for simulating a real-time data, time loop\n",
    "#import numpy as np # np mean, np random\n",
    "import pandas as pd # read csv, df manipulation\n",
    "import plotly.express as px # interactive charts\n",
    "import matplotlib.pyplot as plt\n",
    "import pickle as pkl\n",
    "import timeit\n",
    "import streamlit as st # data web application development"
   ]
  },
  {
   "cell_type": "code",
   "execution_count": 6,
   "id": "e623fb27",
   "metadata": {},
   "outputs": [],
   "source": [
    "#layout\n",
    "st.set_page_config(\n",
    "    page_title=\"Credit Card Fraud Detection System\",\n",
    "    page_icon=\"💳\",\n",
    "    layout=\"wide\",\n",
    ")"
   ]
  },
  {
   "cell_type": "code",
   "execution_count": 7,
   "id": "29ca88a7",
   "metadata": {},
   "outputs": [
    {
     "data": {
      "text/plain": [
       "DeltaGenerator(_root_container=0, _provided_cursor=None, _parent=None, _block_type=None, _form_data=None)"
      ]
     },
     "execution_count": 7,
     "metadata": {},
     "output_type": "execute_result"
    }
   ],
   "source": [
    "# dashboard title\n",
    "st.image(\"credit_card.png\", width=100)\n",
    "st.title(\"Welcome to NextGen Credit Card Fraud Detection System\")"
   ]
  },
  {
   "cell_type": "code",
   "execution_count": 8,
   "id": "28a2bfb6",
   "metadata": {},
   "outputs": [
    {
     "data": {
      "text/plain": [
       "DeltaGenerator(_root_container=0, _provided_cursor=None, _parent=None, _block_type=None, _form_data=None)"
      ]
     },
     "execution_count": 8,
     "metadata": {},
     "output_type": "execute_result"
    }
   ],
   "source": [
    "st.markdown(\n",
    "    \"\"\"\n",
    "    ## Tired of dealing with credit card fraud in your business?\n",
    "    \n",
    "    We go beyond simple credit card fraud detection. We generate trust between your company \n",
    "    and your good customers, to improve the total results of your business.\n",
    "    \n",
    "    Get the highest accuracy rates and lowest incorrect fruad detection rates in the industry with an innovative \n",
    "    fraud prevention solution that’s always customized to your business.\n",
    "    **👈 Navigate the tabs from the sidebar** to upload and see results\n",
    "    \n",
    "    ### Summary of each tab\n",
    "    - **Fraud Detection Result**: Upload Data, Transaction Details and Top parameters\n",
    "    - **Data Science (Statistics)**: Model Selection, Confusion Matrix and Classification Report\n",
    "    - **Dataset**: View Data and Summary Statistics\n",
    "       \n",
    "\"\"\"\n",
    ")"
   ]
  },
  {
   "cell_type": "code",
   "execution_count": null,
   "id": "442e289c",
   "metadata": {},
   "outputs": [],
   "source": []
  }
 ],
 "metadata": {
  "kernelspec": {
   "display_name": "Python 3 (ipykernel)",
   "language": "python",
   "name": "python3"
  },
  "language_info": {
   "codemirror_mode": {
    "name": "ipython",
    "version": 3
   },
   "file_extension": ".py",
   "mimetype": "text/x-python",
   "name": "python",
   "nbconvert_exporter": "python",
   "pygments_lexer": "ipython3",
   "version": "3.8.8"
  }
 },
 "nbformat": 4,
 "nbformat_minor": 5
}
