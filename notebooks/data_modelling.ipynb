{
 "cells": [
  {
   "cell_type": "markdown",
   "id": "8b38e79c",
   "metadata": {},
   "source": [
    "# Modelling"
   ]
  },
  {
   "cell_type": "code",
   "execution_count": 10,
   "id": "8ac9f899",
   "metadata": {},
   "outputs": [],
   "source": [
    "# Importing libraries\n",
    "import pandas as pd\n",
    "import seaborn as sns\n",
    "import matplotlib.pyplot as plt\n",
    "%matplotlib inline\n",
    "import math\n",
    "from sklearn.model_selection import train_test_split\n",
    "\n",
    "from sklearn.model_selection import cross_val_score,KFold\n",
    "import pickle as pkl\n",
    "\n",
    "from sklearn.linear_model import LogisticRegression\n",
    "from sklearn.tree import DecisionTreeClassifier\n",
    "from sklearn.neighbors import KNeighborsClassifier\n",
    "from sklearn.ensemble import RandomForestClassifier\n",
    "\n",
    "# performance evaluation with confusion matrix, accuracy and f1 score\n",
    "from sklearn.metrics import confusion_matrix\n",
    "from sklearn.metrics import ConfusionMatrixDisplay\n",
    "from sklearn.metrics import accuracy_score\n",
    "from sklearn.metrics import precision_score\n",
    "from sklearn.metrics import recall_score\n",
    "from sklearn.metrics import f1_score\n",
    "from sklearn.metrics import classification_report\n"
   ]
  },
  {
   "cell_type": "code",
   "execution_count": 11,
   "id": "2c235f26",
   "metadata": {},
   "outputs": [
    {
     "name": "stdout",
     "output_type": "stream",
     "text": [
      "Requirement already satisfied: imblearn in c:\\users\\ishan\\anaconda3\\lib\\site-packages (0.0)\n",
      "Requirement already satisfied: imbalanced-learn in c:\\users\\ishan\\anaconda3\\lib\\site-packages (from imblearn) (0.10.1)\n",
      "Requirement already satisfied: scipy>=1.3.2 in c:\\users\\ishan\\anaconda3\\lib\\site-packages (from imbalanced-learn->imblearn) (1.7.3)\n",
      "Requirement already satisfied: joblib>=1.1.1 in c:\\users\\ishan\\anaconda3\\lib\\site-packages (from imbalanced-learn->imblearn) (1.2.0)\n",
      "Requirement already satisfied: scikit-learn>=1.0.2 in c:\\users\\ishan\\anaconda3\\lib\\site-packages (from imbalanced-learn->imblearn) (1.2.1)\n",
      "Requirement already satisfied: numpy>=1.17.3 in c:\\users\\ishan\\anaconda3\\lib\\site-packages (from imbalanced-learn->imblearn) (1.20.1)\n",
      "Requirement already satisfied: threadpoolctl>=2.0.0 in c:\\users\\ishan\\anaconda3\\lib\\site-packages (from imbalanced-learn->imblearn) (2.2.0)\n"
     ]
    },
    {
     "data": {
      "image/png": "[encoded data removed]",
      "text/plain": [
       "<Figure size 432x288 with 1 Axes>"
      ]
     },
     "metadata": {
      "needs_background": "light"
     },
     "output_type": "display_data"
    }
   ],
   "source": [
    "# Importing Data splitting module\n",
    "import data_splitting as ds"
   ]
  },
  {
   "cell_type": "code",
   "execution_count": 12,
   "id": "efa8a4b6",
   "metadata": {},
   "outputs": [],
   "source": [
    "# Split processed data into train and validation set\n",
    "ds.split_dataset(r'..\\data\\processed\\scaledData.csv', r'..\\data\\processed', 0.20)   "
   ]
  },
  {
   "cell_type": "code",
   "execution_count": 13,
   "id": "84407b2c",
   "metadata": {},
   "outputs": [],
   "source": [
    "#Reading training dataset\n",
    "train_data = r'..\\data\\processed\\train.csv'\n",
    "df_train = pd.read_csv(train_data)"
   ]
  },
  {
   "cell_type": "code",
   "execution_count": 14,
   "id": "de0ce756",
   "metadata": {},
   "outputs": [],
   "source": [
    "#Reading validation dataset\n",
    "validation_data = r'..\\data\\processed\\test.csv'\n",
    "df_validation =pd.read_csv(validation_data)"
   ]
  },
  {
   "cell_type": "code",
   "execution_count": 15,
   "id": "123815d4",
   "metadata": {},
   "outputs": [],
   "source": [
    "X_train = df_train.drop('Class', axis=1)\n",
    "y_train = df_train['Class']"
   ]
  },
  {
   "cell_type": "code",
   "execution_count": 16,
   "id": "9ed5621b",
   "metadata": {},
   "outputs": [],
   "source": [
    "X_vali = df_validation.drop('Class', axis=1)\n",
    "y_vali = df_validation['Class']"
   ]
  },
  {
   "cell_type": "code",
   "execution_count": 17,
   "id": "fc5ab7c6",
   "metadata": {},
   "outputs": [
    {
     "name": "stdout",
     "output_type": "stream",
     "text": [
      "X_train :  (341172, 30)\n",
      "y_train :  (341172,)\n",
      "X_validation :  (85294, 30)\n",
      "y_validation :  (85294,)\n"
     ]
    }
   ],
   "source": [
    "print(\"X_train : \",X_train.shape)\n",
    "print(\"y_train : \",y_train.shape)\n",
    "print(\"X_validation : \",X_vali.shape)\n",
    "print(\"y_validation : \",y_vali.shape)"
   ]
  },
  {
   "cell_type": "markdown",
   "id": "eca7279d",
   "metadata": {},
   "source": [
    "## Logistic Regression"
   ]
  },
  {
   "cell_type": "code",
   "execution_count": 18,
   "id": "04c5294e",
   "metadata": {},
   "outputs": [
    {
     "data": {
      "text/html": [
       "<style>#sk-container-id-1 {color: black;background-color: white;}#sk-container-id-1 pre{padding: 0;}#sk-container-id-1 div.sk-toggleable {background-color: white;}#sk-container-id-1 label.sk-toggleable__label {cursor: pointer;display: block;width: 100%;margin-bottom: 0;padding: 0.3em;box-sizing: border-box;text-align: center;}#sk-container-id-1 label.sk-toggleable__label-arrow:before {content: \"▸\";float: left;margin-right: 0.25em;color: #696969;}#sk-container-id-1 label.sk-toggleable__label-arrow:hover:before {color: black;}#sk-container-id-1 div.sk-estimator:hover label.sk-toggleable__label-arrow:before {color: black;}#sk-container-id-1 div.sk-toggleable__content {max-height: 0;max-width: 0;overflow: hidden;text-align: left;background-color: #f0f8ff;}#sk-container-id-1 div.sk-toggleable__content pre {margin: 0.2em;color: black;border-radius: 0.25em;background-color: #f0f8ff;}#sk-container-id-1 input.sk-toggleable__control:checked~div.sk-toggleable__content {max-height: 200px;max-width: 100%;overflow: auto;}#sk-container-id-1 input.sk-toggleable__control:checked~label.sk-toggleable__label-arrow:before {content: \"▾\";}#sk-container-id-1 div.sk-estimator input.sk-toggleable__control:checked~label.sk-toggleable__label {background-color: #d4ebff;}#sk-container-id-1 div.sk-label input.sk-toggleable__control:checked~label.sk-toggleable__label {background-color: #d4ebff;}#sk-container-id-1 input.sk-hidden--visually {border: 0;clip: rect(1px 1px 1px 1px);clip: rect(1px, 1px, 1px, 1px);height: 1px;margin: -1px;overflow: hidden;padding: 0;position: absolute;width: 1px;}#sk-container-id-1 div.sk-estimator {font-family: monospace;background-color: #f0f8ff;border: 1px dotted black;border-radius: 0.25em;box-sizing: border-box;margin-bottom: 0.5em;}#sk-container-id-1 div.sk-estimator:hover {background-color: #d4ebff;}#sk-container-id-1 div.sk-parallel-item::after {content: \"\";width: 100%;border-bottom: 1px solid gray;flex-grow: 1;}#sk-container-id-1 div.sk-label:hover label.sk-toggleable__label {background-color: #d4ebff;}#sk-container-id-1 div.sk-serial::before {content: \"\";position: absolute;border-left: 1px solid gray;box-sizing: border-box;top: 0;bottom: 0;left: 50%;z-index: 0;}#sk-container-id-1 div.sk-serial {display: flex;flex-direction: column;align-items: center;background-color: white;padding-right: 0.2em;padding-left: 0.2em;position: relative;}#sk-container-id-1 div.sk-item {position: relative;z-index: 1;}#sk-container-id-1 div.sk-parallel {display: flex;align-items: stretch;justify-content: center;background-color: white;position: relative;}#sk-container-id-1 div.sk-item::before, #sk-container-id-1 div.sk-parallel-item::before {content: \"\";position: absolute;border-left: 1px solid gray;box-sizing: border-box;top: 0;bottom: 0;left: 50%;z-index: -1;}#sk-container-id-1 div.sk-parallel-item {display: flex;flex-direction: column;z-index: 1;position: relative;background-color: white;}#sk-container-id-1 div.sk-parallel-item:first-child::after {align-self: flex-end;width: 50%;}#sk-container-id-1 div.sk-parallel-item:last-child::after {align-self: flex-start;width: 50%;}#sk-container-id-1 div.sk-parallel-item:only-child::after {width: 0;}#sk-container-id-1 div.sk-dashed-wrapped {border: 1px dashed gray;margin: 0 0.4em 0.5em 0.4em;box-sizing: border-box;padding-bottom: 0.4em;background-color: white;}#sk-container-id-1 div.sk-label label {font-family: monospace;font-weight: bold;display: inline-block;line-height: 1.2em;}#sk-container-id-1 div.sk-label-container {text-align: center;}#sk-container-id-1 div.sk-container {/* jupyter's `normalize.less` sets `[hidden] { display: none; }` but bootstrap.min.css set `[hidden] { display: none !important; }` so we also need the `!important` here to be able to override the default hidden behavior on the sphinx rendered scikit-learn.org. See: https://github.com/scikit-learn/scikit-learn/issues/21755 */display: inline-block !important;position: relative;}#sk-container-id-1 div.sk-text-repr-fallback {display: none;}</style><div id=\"sk-container-id-1\" class=\"sk-top-container\"><div class=\"sk-text-repr-fallback\"><pre>LogisticRegression()</pre><b>In a Jupyter environment, please rerun this cell to show the HTML representation or trust the notebook. <br />On GitHub, the HTML representation is unable to render, please try loading this page with nbviewer.org.</b></div><div class=\"sk-container\" hidden><div class=\"sk-item\"><div class=\"sk-estimator sk-toggleable\"><input class=\"sk-toggleable__control sk-hidden--visually\" id=\"sk-estimator-id-1\" type=\"checkbox\" checked><label for=\"sk-estimator-id-1\" class=\"sk-toggleable__label sk-toggleable__label-arrow\">LogisticRegression</label><div class=\"sk-toggleable__content\"><pre>LogisticRegression()</pre></div></div></div></div></div>"
      ],
      "text/plain": [
       "LogisticRegression()"
      ]
     },
     "execution_count": 18,
     "metadata": {},
     "output_type": "execute_result"
    }
   ],
   "source": [
    "# logistic regression\n",
    "lr = LogisticRegression()\n",
    "\n",
    "# fitting\n",
    "lr.fit(X_train,y_train)"
   ]
  },
  {
   "cell_type": "code",
   "execution_count": 19,
   "id": "9ca2be11",
   "metadata": {},
   "outputs": [],
   "source": [
    "# we feed the x_test values and store the predicted y values\n",
    "lr_ypred = lr.predict(X_vali)"
   ]
  },
  {
   "cell_type": "code",
   "execution_count": 20,
   "id": "cc30f0d2",
   "metadata": {},
   "outputs": [],
   "source": [
    "### Confusion Matrix\n",
    "\n",
    "## calculation\n",
    "\n",
    "# logistic regression\n",
    "lr_cm = confusion_matrix(y_vali, lr_ypred, labels = [0, 1])"
   ]
  },
  {
   "cell_type": "code",
   "execution_count": 21,
   "id": "16928ad7",
   "metadata": {},
   "outputs": [
    {
     "data": {
      "image/png": "[encoded data removed]",
      "text/plain": [
       "<Figure size 432x288 with 2 Axes>"
      ]
     },
     "metadata": {
      "needs_background": "light"
     },
     "output_type": "display_data"
    }
   ],
   "source": [
    "## plot\n",
    "\n",
    "# logistic regression\n",
    "disp = ConfusionMatrixDisplay(lr_cm)\n",
    "disp.plot()\n",
    "plt.title(\"Logistic Regression\")\n",
    "plt.show()"
   ]
  },
  {
   "cell_type": "code",
   "execution_count": 22,
   "id": "d56a50cb",
   "metadata": {},
   "outputs": [
    {
     "name": "stdout",
     "output_type": "stream",
     "text": [
      "Number of transactions falesly reported as being fraud:\n",
      "Logistic Regression: 362\n"
     ]
    }
   ],
   "source": [
    "print(\"Number of transactions falesly reported as being fraud:\")\n",
    "print(\"Logistic Regression:\", lr_cm[0][1])"
   ]
  },
  {
   "cell_type": "code",
   "execution_count": 23,
   "id": "8d42e1f6",
   "metadata": {},
   "outputs": [
    {
     "name": "stdout",
     "output_type": "stream",
     "text": [
      "Accuracy:\n",
      "Logistic Regression: 98.1558 %\n",
      "Precision:\n",
      "Logistic Regression: 99.1304 %\n",
      "Recall:\n",
      "Logistic Regression: 97.1489 %\n"
     ]
    }
   ],
   "source": [
    "# accuracy\n",
    "print(\"Accuracy:\")\n",
    "\n",
    "print(\"Logistic Regression:\", round(accuracy_score(y_vali, lr_ypred)*100, 4), \"%\")\n",
    "\n",
    "# Precision\n",
    "print(\"Precision:\")\n",
    "\n",
    "print(\"Logistic Regression:\", round(precision_score(y_vali, lr_ypred)*100, 4), \"%\")\n",
    "\n",
    "# Recall\n",
    "print(\"Recall:\")\n",
    "\n",
    "print(\"Logistic Regression:\", round(recall_score(y_vali, lr_ypred)*100, 4), \"%\")"
   ]
  },
  {
   "cell_type": "code",
   "execution_count": 24,
   "id": "3f29763d",
   "metadata": {},
   "outputs": [
    {
     "name": "stdout",
     "output_type": "stream",
     "text": [
      "Summarized Classification Report of Logistic Regression:\n",
      "              precision    recall  f1-score   support\n",
      "\n",
      "           0       0.97      0.99      0.98     42819\n",
      "           1       0.99      0.97      0.98     42475\n",
      "\n",
      "    accuracy                           0.98     85294\n",
      "   macro avg       0.98      0.98      0.98     85294\n",
      "weighted avg       0.98      0.98      0.98     85294\n",
      "\n",
      "\n"
     ]
    }
   ],
   "source": [
    "# classification report LR\n",
    "print('Summarized Classification Report of Logistic Regression:')\n",
    "print(classification_report(y_vali, lr_ypred))\n",
    "print()"
   ]
  },
  {
   "cell_type": "markdown",
   "id": "07e05b3d",
   "metadata": {},
   "source": [
    "## Decision Tree Classifier "
   ]
  },
  {
   "cell_type": "code",
   "execution_count": 25,
   "id": "65e5bcab",
   "metadata": {},
   "outputs": [
    {
     "data": {
      "text/html": [
       "<style>#sk-container-id-2 {color: black;background-color: white;}#sk-container-id-2 pre{padding: 0;}#sk-container-id-2 div.sk-toggleable {background-color: white;}#sk-container-id-2 label.sk-toggleable__label {cursor: pointer;display: block;width: 100%;margin-bottom: 0;padding: 0.3em;box-sizing: border-box;text-align: center;}#sk-container-id-2 label.sk-toggleable__label-arrow:before {content: \"▸\";float: left;margin-right: 0.25em;color: #696969;}#sk-container-id-2 label.sk-toggleable__label-arrow:hover:before {color: black;}#sk-container-id-2 div.sk-estimator:hover label.sk-toggleable__label-arrow:before {color: black;}#sk-container-id-2 div.sk-toggleable__content {max-height: 0;max-width: 0;overflow: hidden;text-align: left;background-color: #f0f8ff;}#sk-container-id-2 div.sk-toggleable__content pre {margin: 0.2em;color: black;border-radius: 0.25em;background-color: #f0f8ff;}#sk-container-id-2 input.sk-toggleable__control:checked~div.sk-toggleable__content {max-height: 200px;max-width: 100%;overflow: auto;}#sk-container-id-2 input.sk-toggleable__control:checked~label.sk-toggleable__label-arrow:before {content: \"▾\";}#sk-container-id-2 div.sk-estimator input.sk-toggleable__control:checked~label.sk-toggleable__label {background-color: #d4ebff;}#sk-container-id-2 div.sk-label input.sk-toggleable__control:checked~label.sk-toggleable__label {background-color: #d4ebff;}#sk-container-id-2 input.sk-hidden--visually {border: 0;clip: rect(1px 1px 1px 1px);clip: rect(1px, 1px, 1px, 1px);height: 1px;margin: -1px;overflow: hidden;padding: 0;position: absolute;width: 1px;}#sk-container-id-2 div.sk-estimator {font-family: monospace;background-color: #f0f8ff;border: 1px dotted black;border-radius: 0.25em;box-sizing: border-box;margin-bottom: 0.5em;}#sk-container-id-2 div.sk-estimator:hover {background-color: #d4ebff;}#sk-container-id-2 div.sk-parallel-item::after {content: \"\";width: 100%;border-bottom: 1px solid gray;flex-grow: 1;}#sk-container-id-2 div.sk-label:hover label.sk-toggleable__label {background-color: #d4ebff;}#sk-container-id-2 div.sk-serial::before {content: \"\";position: absolute;border-left: 1px solid gray;box-sizing: border-box;top: 0;bottom: 0;left: 50%;z-index: 0;}#sk-container-id-2 div.sk-serial {display: flex;flex-direction: column;align-items: center;background-color: white;padding-right: 0.2em;padding-left: 0.2em;position: relative;}#sk-container-id-2 div.sk-item {position: relative;z-index: 1;}#sk-container-id-2 div.sk-parallel {display: flex;align-items: stretch;justify-content: center;background-color: white;position: relative;}#sk-container-id-2 div.sk-item::before, #sk-container-id-2 div.sk-parallel-item::before {content: \"\";position: absolute;border-left: 1px solid gray;box-sizing: border-box;top: 0;bottom: 0;left: 50%;z-index: -1;}#sk-container-id-2 div.sk-parallel-item {display: flex;flex-direction: column;z-index: 1;position: relative;background-color: white;}#sk-container-id-2 div.sk-parallel-item:first-child::after {align-self: flex-end;width: 50%;}#sk-container-id-2 div.sk-parallel-item:last-child::after {align-self: flex-start;width: 50%;}#sk-container-id-2 div.sk-parallel-item:only-child::after {width: 0;}#sk-container-id-2 div.sk-dashed-wrapped {border: 1px dashed gray;margin: 0 0.4em 0.5em 0.4em;box-sizing: border-box;padding-bottom: 0.4em;background-color: white;}#sk-container-id-2 div.sk-label label {font-family: monospace;font-weight: bold;display: inline-block;line-height: 1.2em;}#sk-container-id-2 div.sk-label-container {text-align: center;}#sk-container-id-2 div.sk-container {/* jupyter's `normalize.less` sets `[hidden] { display: none; }` but bootstrap.min.css set `[hidden] { display: none !important; }` so we also need the `!important` here to be able to override the default hidden behavior on the sphinx rendered scikit-learn.org. See: https://github.com/scikit-learn/scikit-learn/issues/21755 */display: inline-block !important;position: relative;}#sk-container-id-2 div.sk-text-repr-fallback {display: none;}</style><div id=\"sk-container-id-2\" class=\"sk-top-container\"><div class=\"sk-text-repr-fallback\"><pre>DecisionTreeClassifier(criterion=&#x27;entropy&#x27;, random_state=42)</pre><b>In a Jupyter environment, please rerun this cell to show the HTML representation or trust the notebook. <br />On GitHub, the HTML representation is unable to render, please try loading this page with nbviewer.org.</b></div><div class=\"sk-container\" hidden><div class=\"sk-item\"><div class=\"sk-estimator sk-toggleable\"><input class=\"sk-toggleable__control sk-hidden--visually\" id=\"sk-estimator-id-2\" type=\"checkbox\" checked><label for=\"sk-estimator-id-2\" class=\"sk-toggleable__label sk-toggleable__label-arrow\">DecisionTreeClassifier</label><div class=\"sk-toggleable__content\"><pre>DecisionTreeClassifier(criterion=&#x27;entropy&#x27;, random_state=42)</pre></div></div></div></div></div>"
      ],
      "text/plain": [
       "DecisionTreeClassifier(criterion='entropy', random_state=42)"
      ]
     },
     "execution_count": 25,
     "metadata": {},
     "output_type": "execute_result"
    }
   ],
   "source": [
    "#1. DECISION TREE CLASSIFIER\n",
    "dt_classifier = DecisionTreeClassifier(criterion = 'entropy', random_state = 42)\n",
    "dt_classifier.fit(X_train, y_train)"
   ]
  },
  {
   "cell_type": "code",
   "execution_count": 26,
   "id": "b18cd963",
   "metadata": {},
   "outputs": [],
   "source": [
    "decisiontree_prediction = dt_classifier.predict(X_vali)"
   ]
  },
  {
   "cell_type": "code",
   "execution_count": 27,
   "id": "9bf328ee",
   "metadata": {},
   "outputs": [
    {
     "name": "stdout",
     "output_type": "stream",
     "text": [
      "[[42741    78]\n",
      " [   28 42447]]\n",
      "              precision    recall  f1-score   support\n",
      "\n",
      "           0       1.00      1.00      1.00     42819\n",
      "           1       1.00      1.00      1.00     42475\n",
      "\n",
      "    accuracy                           1.00     85294\n",
      "   macro avg       1.00      1.00      1.00     85294\n",
      "weighted avg       1.00      1.00      1.00     85294\n",
      "\n"
     ]
    }
   ],
   "source": [
    "a= confusion_matrix(y_vali,decisiontree_prediction)\n",
    "print(a)\n",
    "print(classification_report(y_vali,decisiontree_prediction))"
   ]
  },
  {
   "cell_type": "code",
   "execution_count": 28,
   "id": "562cbd8d",
   "metadata": {},
   "outputs": [
    {
     "name": "stdout",
     "output_type": "stream",
     "text": [
      "The accuracy is 0.9987572396651582\n",
      "The precision is 0.9981657848324516\n",
      "The recall is 0.9993407886992348\n",
      "The F1-Score is 0.9987529411764706\n"
     ]
    }
   ],
   "source": [
    "acc = accuracy_score(y_vali, decisiontree_prediction)\n",
    "print(\"The accuracy is {}\".format(acc))\n",
    " \n",
    "prec = precision_score(y_vali, decisiontree_prediction)\n",
    "print(\"The precision is {}\".format(prec))\n",
    " \n",
    "rec = recall_score(y_vali, decisiontree_prediction)\n",
    "print(\"The recall is {}\".format(rec))\n",
    " \n",
    "f1 = f1_score(y_vali, decisiontree_prediction)\n",
    "print(\"The F1-Score is {}\".format(f1))"
   ]
  },
  {
   "cell_type": "code",
   "execution_count": 29,
   "id": "260f091f",
   "metadata": {},
   "outputs": [
    {
     "data": {
      "image/png": "[encoded data removed]",
      "text/plain": [
       "<Figure size 432x288 with 2 Axes>"
      ]
     },
     "metadata": {
      "needs_background": "light"
     },
     "output_type": "display_data"
    }
   ],
   "source": [
    "disp = ConfusionMatrixDisplay(a)\n",
    "disp.plot()\n",
    "plt.title(\"Decision Tree\")\n",
    "plt.show()"
   ]
  },
  {
   "cell_type": "markdown",
   "id": "c2f11054",
   "metadata": {},
   "source": [
    "## KNN "
   ]
  },
  {
   "cell_type": "code",
   "execution_count": 30,
   "id": "a282c219",
   "metadata": {},
   "outputs": [],
   "source": [
    "# k-nearest neighbors\n",
    "knn = KNeighborsClassifier(n_neighbors = 5)\n",
    "# fitting\n",
    "knn.fit(X_train, y_train)\n",
    "# we feed the x_test values and store the predicted y values\n",
    "knn_ypred = knn.predict(X_vali)"
   ]
  },
  {
   "cell_type": "code",
   "execution_count": 31,
   "id": "511a4d51",
   "metadata": {},
   "outputs": [],
   "source": [
    "# k-nearest neighbor\n",
    "knn_cm = confusion_matrix(y_vali, knn_ypred, labels = [0, 1])"
   ]
  },
  {
   "cell_type": "code",
   "execution_count": 32,
   "id": "83bbf86d",
   "metadata": {},
   "outputs": [
    {
     "data": {
      "image/png": "[encoded data removed]",
      "text/plain": [
       "<Figure size 432x288 with 2 Axes>"
      ]
     },
     "metadata": {
      "needs_background": "light"
     },
     "output_type": "display_data"
    }
   ],
   "source": [
    "disp = ConfusionMatrixDisplay(knn_cm)\n",
    "disp.plot()\n",
    "plt.title(\"k-Nearest\")\n",
    "plt.show()"
   ]
  },
  {
   "cell_type": "markdown",
   "id": "463acaed",
   "metadata": {},
   "source": [
    "## Random Forest"
   ]
  },
  {
   "cell_type": "code",
   "execution_count": 33,
   "id": "cc461cb7",
   "metadata": {},
   "outputs": [],
   "source": [
    "# random forest\n",
    "rf = RandomForestClassifier(max_depth = 4)\n",
    "# fitting\n",
    "rf.fit(X_train, y_train)\n",
    "# we feed the x_test values and store the predicted y values\n",
    "rf_ypred = rf.predict(X_vali)"
   ]
  },
  {
   "cell_type": "code",
   "execution_count": 34,
   "id": "dbd5c3db",
   "metadata": {},
   "outputs": [],
   "source": [
    "# random forest\n",
    "rf_cm = confusion_matrix(y_vali, rf_ypred, labels = [0, 1])"
   ]
  },
  {
   "cell_type": "code",
   "execution_count": 35,
   "id": "154daa01",
   "metadata": {},
   "outputs": [
    {
     "data": {
      "image/png": "[encoded data removed]",
      "text/plain": [
       "<Figure size 432x288 with 2 Axes>"
      ]
     },
     "metadata": {
      "needs_background": "light"
     },
     "output_type": "display_data"
    }
   ],
   "source": [
    "disp = ConfusionMatrixDisplay(rf_cm)\n",
    "disp.plot()\n",
    "plt.title(\"Random Forest\")\n",
    "plt.show()"
   ]
  },
  {
   "cell_type": "markdown",
   "id": "b84c2102",
   "metadata": {},
   "source": [
    "##  XGB Classifier"
   ]
  },
  {
   "cell_type": "code",
   "execution_count": 36,
   "id": "86bcb9c5",
   "metadata": {},
   "outputs": [
    {
     "name": "stdout",
     "output_type": "stream",
     "text": [
      "Requirement already satisfied: xgboost in c:\\users\\ishan\\anaconda3\\lib\\site-packages (1.7.4)\n",
      "Requirement already satisfied: scipy in c:\\users\\ishan\\anaconda3\\lib\\site-packages (from xgboost) (1.7.3)\n",
      "Requirement already satisfied: numpy in c:\\users\\ishan\\anaconda3\\lib\\site-packages (from xgboost) (1.20.1)\n"
     ]
    }
   ],
   "source": [
    "import sys\n",
    "!{sys.executable} -m pip install xgboost"
   ]
  },
  {
   "cell_type": "code",
   "execution_count": 37,
   "id": "e80c786b",
   "metadata": {},
   "outputs": [],
   "source": [
    "#XGBOOST\n",
    "from xgboost import XGBClassifier\n",
    "xgb = XGBClassifier(max_depth = 4)\n",
    "xgb.fit(X_train, y_train)\n",
    "xgb_pred = xgb.predict(X_vali)"
   ]
  },
  {
   "cell_type": "code",
   "execution_count": 38,
   "id": "9117311b",
   "metadata": {},
   "outputs": [
    {
     "name": "stdout",
     "output_type": "stream",
     "text": [
      "              precision    recall  f1-score   support\n",
      "\n",
      "           0       1.00      1.00      1.00     42819\n",
      "           1       1.00      1.00      1.00     42475\n",
      "\n",
      "    accuracy                           1.00     85294\n",
      "   macro avg       1.00      1.00      1.00     85294\n",
      "weighted avg       1.00      1.00      1.00     85294\n",
      "\n"
     ]
    }
   ],
   "source": [
    "print(classification_report(y_vali,xgb_pred))"
   ]
  },
  {
   "cell_type": "code",
   "execution_count": 39,
   "id": "09c8f3cc",
   "metadata": {},
   "outputs": [],
   "source": [
    "xgb_cm = confusion_matrix(y_vali, xgb_pred, labels = [0, 1])"
   ]
  },
  {
   "cell_type": "code",
   "execution_count": 40,
   "id": "d0c29100",
   "metadata": {},
   "outputs": [
    {
     "data": {
      "image/png": "[encoded data removed]",
      "text/plain": [
       "<Figure size 432x288 with 2 Axes>"
      ]
     },
     "metadata": {
      "needs_background": "light"
     },
     "output_type": "display_data"
    }
   ],
   "source": [
    "disp = ConfusionMatrixDisplay(xgb_cm)\n",
    "disp.plot()\n",
    "plt.title(\"XGBOOST\")\n",
    "plt.show()"
   ]
  },
  {
   "cell_type": "markdown",
   "id": "ceff128e",
   "metadata": {},
   "source": [
    "##  LGBM Classifier"
   ]
  },
  {
   "cell_type": "code",
   "execution_count": 56,
   "id": "dbe098d9",
   "metadata": {},
   "outputs": [
    {
     "name": "stdout",
     "output_type": "stream",
     "text": [
      "Collecting lightgbm\n",
      "  Downloading lightgbm-3.3.5-py3-none-win_amd64.whl (1.0 MB)\n",
      "Requirement already satisfied: scipy in c:\\users\\ishan\\anaconda3\\lib\\site-packages (from lightgbm) (1.7.3)\n",
      "Requirement already satisfied: wheel in c:\\users\\ishan\\anaconda3\\lib\\site-packages (from lightgbm) (0.37.1)\n",
      "Requirement already satisfied: numpy in c:\\users\\ishan\\anaconda3\\lib\\site-packages (from lightgbm) (1.20.1)\n",
      "Requirement already satisfied: scikit-learn!=0.22.0 in c:\\users\\ishan\\anaconda3\\lib\\site-packages (from lightgbm) (1.2.1)\n",
      "Requirement already satisfied: joblib>=1.1.1 in c:\\users\\ishan\\anaconda3\\lib\\site-packages (from scikit-learn!=0.22.0->lightgbm) (1.2.0)\n",
      "Requirement already satisfied: threadpoolctl>=2.0.0 in c:\\users\\ishan\\anaconda3\\lib\\site-packages (from scikit-learn!=0.22.0->lightgbm) (2.2.0)\n",
      "Installing collected packages: lightgbm\n",
      "Successfully installed lightgbm-3.3.5\n"
     ]
    }
   ],
   "source": [
    "!pip install lightgbm"
   ]
  },
  {
   "cell_type": "code",
   "execution_count": 41,
   "id": "5a18cc5b",
   "metadata": {},
   "outputs": [],
   "source": [
    "import lightgbm as lgb\n",
    "clf = lgb.LGBMClassifier(max_depth = 4)\n",
    "clf.fit(X_train, y_train)\n",
    "lgbm_pred=clf.predict(X_vali)"
   ]
  },
  {
   "cell_type": "code",
   "execution_count": 42,
   "id": "8e25473c",
   "metadata": {},
   "outputs": [],
   "source": [
    "lgbm_cm = confusion_matrix(y_vali, lgbm_pred, labels = [0, 1])"
   ]
  },
  {
   "cell_type": "code",
   "execution_count": 43,
   "id": "74db431f",
   "metadata": {},
   "outputs": [
    {
     "data": {
      "image/png": "[encoded data removed]",
      "text/plain": [
       "<Figure size 432x288 with 2 Axes>"
      ]
     },
     "metadata": {
      "needs_background": "light"
     },
     "output_type": "display_data"
    }
   ],
   "source": [
    "disp = ConfusionMatrixDisplay(lgbm_cm)\n",
    "disp.plot()\n",
    "plt.title(\"LGBM\")\n",
    "plt.show()"
   ]
  },
  {
   "cell_type": "code",
   "execution_count": 44,
   "id": "a7596f1f",
   "metadata": {},
   "outputs": [
    {
     "name": "stdout",
     "output_type": "stream",
     "text": [
      "Requirement already satisfied: prettytable in c:\\users\\ishan\\anaconda3\\lib\\site-packages (3.6.0)\n",
      "Requirement already satisfied: wcwidth in c:\\users\\ishan\\anaconda3\\lib\\site-packages (from prettytable) (0.2.5)\n",
      "Note: you may need to restart the kernel to use updated packages.\n"
     ]
    }
   ],
   "source": [
    "pip install prettytable"
   ]
  },
  {
   "cell_type": "code",
   "execution_count": 45,
   "id": "60e5a62a",
   "metadata": {},
   "outputs": [
    {
     "name": "stdout",
     "output_type": "stream",
     "text": [
      "+---------------------+--------------+---------------+------------+\n",
      "|        Model        | Accuracy (%) | Precision (%) | Recall (%) |\n",
      "+---------------------+--------------+---------------+------------+\n",
      "| Logistic Regression |   98.1558    |    99.1304    |  97.1489   |\n",
      "|  k-Nearest Neighbor |    99.925    |    99.8495    |   100.0    |\n",
      "|    Random Forest    |   96.5109    |    99.2887    |  93.6645   |\n",
      "|    Decision Tree    |   99.8757    |    99.8166    |  99.9341   |\n",
      "|       XGBOOST       |   99.9683    |    99.9365    |   100.0    |\n",
      "|         LGBM        |   99.6014    |    99.7285    |  99.4703   |\n",
      "+---------------------+--------------+---------------+------------+\n",
      "Summarized Classification Report of Logistic Regression:\n",
      "              precision    recall  f1-score   support\n",
      "\n",
      "           0       0.97      0.99      0.98     42819\n",
      "           1       0.99      0.97      0.98     42475\n",
      "\n",
      "    accuracy                           0.98     85294\n",
      "   macro avg       0.98      0.98      0.98     85294\n",
      "weighted avg       0.98      0.98      0.98     85294\n",
      "\n",
      "\n",
      "\n",
      "Summarized Classification Report of k-Nearest Neighbor:\n",
      "              precision    recall  f1-score   support\n",
      "\n",
      "           0       1.00      1.00      1.00     42819\n",
      "           1       1.00      1.00      1.00     42475\n",
      "\n",
      "    accuracy                           1.00     85294\n",
      "   macro avg       1.00      1.00      1.00     85294\n",
      "weighted avg       1.00      1.00      1.00     85294\n",
      "\n",
      "\n",
      "\n",
      "Summarized Classification Report of Random Forest:\n",
      "              precision    recall  f1-score   support\n",
      "\n",
      "           0       0.94      0.99      0.97     42819\n",
      "           1       0.99      0.94      0.96     42475\n",
      "\n",
      "    accuracy                           0.97     85294\n",
      "   macro avg       0.97      0.96      0.97     85294\n",
      "weighted avg       0.97      0.97      0.97     85294\n",
      "\n",
      "\n",
      "\n",
      "Summarized Classification Report of Decision Tree:\n",
      "              precision    recall  f1-score   support\n",
      "\n",
      "           0       1.00      1.00      1.00     42819\n",
      "           1       1.00      1.00      1.00     42475\n",
      "\n",
      "    accuracy                           1.00     85294\n",
      "   macro avg       1.00      1.00      1.00     85294\n",
      "weighted avg       1.00      1.00      1.00     85294\n",
      "\n",
      "\n",
      "\n",
      "Summarized Classification Report of XGBOSST:\n",
      "              precision    recall  f1-score   support\n",
      "\n",
      "           0       1.00      1.00      1.00     42819\n",
      "           1       1.00      1.00      1.00     42475\n",
      "\n",
      "    accuracy                           1.00     85294\n",
      "   macro avg       1.00      1.00      1.00     85294\n",
      "weighted avg       1.00      1.00      1.00     85294\n",
      "\n",
      "\n",
      "\n",
      "Summarized Classification Report of LGBM:\n",
      "              precision    recall  f1-score   support\n",
      "\n",
      "           0       0.99      1.00      1.00     42819\n",
      "           1       1.00      0.99      1.00     42475\n",
      "\n",
      "    accuracy                           1.00     85294\n",
      "   macro avg       1.00      1.00      1.00     85294\n",
      "weighted avg       1.00      1.00      1.00     85294\n",
      "\n",
      "\n",
      "\n"
     ]
    }
   ],
   "source": [
    "from prettytable import PrettyTable\n",
    " \n",
    "# Specify the Column Names while initializing the Table\n",
    "myTable = PrettyTable([\"Model\", \"Accuracy (%)\", \"Precision (%)\", \"Recall (%)\"])\n",
    "\n",
    "# Add rows\n",
    "myTable.add_row([\"Logistic Regression\", round(accuracy_score(y_vali, lr_ypred)*100, 4), round(precision_score(y_vali, lr_ypred)*100, 4), round(recall_score(y_vali, lr_ypred)*100, 4)])\n",
    "myTable.add_row([\"k-Nearest Neighbor\", round(accuracy_score(y_vali, knn_ypred)*100, 4), round(precision_score(y_vali, knn_ypred)*100, 4), round(recall_score(y_vali, knn_ypred)*100, 4)])\n",
    "myTable.add_row([\"Random Forest\", round(accuracy_score(y_vali, rf_ypred)*100, 4), round(precision_score(y_vali, rf_ypred)*100, 4), round(recall_score(y_vali, rf_ypred)*100, 4)])\n",
    "myTable.add_row([\"Decision Tree\", round(accuracy_score(y_vali, decisiontree_prediction)*100, 4), round(precision_score(y_vali, decisiontree_prediction)*100, 4), round(recall_score(y_vali, decisiontree_prediction)*100, 4)])\n",
    "myTable.add_row([\"XGBOOST\", round(accuracy_score(y_vali, xgb_pred)*100, 4), round(precision_score(y_vali, xgb_pred)*100, 4), round(recall_score(y_vali, xgb_pred)*100, 4)])\n",
    "myTable.add_row([\"LGBM\", round(accuracy_score(y_vali, lgbm_pred)*100, 4), round(precision_score(y_vali, lgbm_pred)*100, 4), round(recall_score(y_vali, lgbm_pred)*100, 4)])\n",
    "\n",
    "print(myTable)\n",
    "\n",
    "\n",
    "# classification report LR\n",
    "print('Summarized Classification Report of Logistic Regression:')\n",
    "print(classification_report(y_vali, lr_ypred))\n",
    "print()\n",
    "print()\n",
    "# classification report KNN\n",
    "print('Summarized Classification Report of k-Nearest Neighbor:')\n",
    "print(classification_report(y_vali, knn_ypred))\n",
    "print()\n",
    "print()\n",
    "# classification report RF\n",
    "print('Summarized Classification Report of Random Forest:')\n",
    "print(classification_report(y_vali, rf_ypred))\n",
    "print()\n",
    "print()\n",
    "# classification report LR\n",
    "print('Summarized Classification Report of Decision Tree:')\n",
    "print(classification_report(y_vali, decisiontree_prediction))\n",
    "print()\n",
    "print()\n",
    "# classification report LR\n",
    "print('Summarized Classification Report of XGBOSST:')\n",
    "print(classification_report(y_vali, xgb_pred))\n",
    "print()\n",
    "print()\n",
    "# classification report LR\n",
    "print('Summarized Classification Report of LGBM:')\n",
    "print(classification_report(y_vali, lgbm_pred))\n",
    "print()\n",
    "print()"
   ]
  },
  {
   "cell_type": "code",
   "execution_count": 46,
   "id": "853a4e5d",
   "metadata": {},
   "outputs": [],
   "source": [
    "# Save the xgb model\n",
    "\n",
    "file_path = '../models/model_xgb.pkl'\n",
    "pkl.dump(xgb, open(file_path, 'wb'))"
   ]
  },
  {
   "cell_type": "code",
   "execution_count": 47,
   "id": "3dad10f7",
   "metadata": {},
   "outputs": [],
   "source": [
    "# Save the random forest model\n",
    "\n",
    "file_path = '../models/model_rf.pkl'\n",
    "pkl.dump(rf, open(file_path, 'wb'))"
   ]
  },
  {
   "cell_type": "code",
   "execution_count": 48,
   "id": "dceb78d4",
   "metadata": {},
   "outputs": [],
   "source": [
    "# Save the logistic reg model\n",
    "\n",
    "file_path = '../models/model_lr.pkl'\n",
    "pkl.dump(lr, open(file_path, 'wb'))"
   ]
  },
  {
   "cell_type": "code",
   "execution_count": 49,
   "id": "6783daeb",
   "metadata": {},
   "outputs": [],
   "source": [
    "# Save the decision tree model\n",
    "\n",
    "file_path = '../models/model_dt.pkl'\n",
    "pkl.dump(dt_classifier, open(file_path, 'wb'))"
   ]
  },
  {
   "cell_type": "code",
   "execution_count": 50,
   "id": "0b24fcd6",
   "metadata": {},
   "outputs": [],
   "source": [
    "# Save the knn model\n",
    "\n",
    "file_path = '../models/model_knn.pkl'\n",
    "pkl.dump(knn, open(file_path, 'wb'))"
   ]
  },
  {
   "cell_type": "code",
   "execution_count": 51,
   "id": "c502cb67",
   "metadata": {},
   "outputs": [],
   "source": [
    "# Save the lgbm model\n",
    "\n",
    "file_path = '../models/model_clf.pkl'\n",
    "pkl.dump(clf, open(file_path, 'wb'))"
   ]
  },
  {
   "cell_type": "code",
   "execution_count": null,
   "id": "254aeb68",
   "metadata": {},
   "outputs": [],
   "source": [
    "# Hyper parameter tuning for Random Forest\n",
    "\n",
    "\n"
   ]
  }
 ],
 "metadata": {
  "kernelspec": {
   "display_name": "Python 3 (ipykernel)",
   "language": "python",
   "name": "python3"
  },
  "language_info": {
   "codemirror_mode": {
    "name": "ipython",
    "version": 3
   },
   "file_extension": ".py",
   "mimetype": "text/x-python",
   "name": "python",
   "nbconvert_exporter": "python",
   "pygments_lexer": "ipython3",
   "version": "3.8.8"
  }
 },
 "nbformat": 4,
 "nbformat_minor": 5
}
