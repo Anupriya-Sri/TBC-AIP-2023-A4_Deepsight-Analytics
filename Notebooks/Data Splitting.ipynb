{
 "cells": [
  {
   "cell_type": "markdown",
   "id": "215b74f6",
   "metadata": {},
   "source": [
    "# Data Spliting"
   ]
  },
  {
   "cell_type": "code",
   "execution_count": 2,
   "id": "61486678",
   "metadata": {},
   "outputs": [
    {
     "name": "stdout",
     "output_type": "stream",
     "text": [
      "Collecting imblearn\n",
      "  Downloading imblearn-0.0-py2.py3-none-any.whl (1.9 kB)\n",
      "Collecting imbalanced-learn\n",
      "  Downloading imbalanced_learn-0.10.1-py3-none-any.whl (226 kB)\n",
      "Collecting scikit-learn>=1.0.2\n",
      "  Downloading scikit_learn-1.2.1-cp38-cp38-win_amd64.whl (8.3 MB)\n",
      "Requirement already satisfied: threadpoolctl>=2.0.0 in c:\\users\\ishan\\anaconda3\\lib\\site-packages (from imbalanced-learn->imblearn) (2.2.0)\n",
      "Collecting joblib>=1.1.1\n",
      "  Using cached joblib-1.2.0-py3-none-any.whl (297 kB)\n",
      "Requirement already satisfied: scipy>=1.3.2 in c:\\users\\ishan\\anaconda3\\lib\\site-packages (from imbalanced-learn->imblearn) (1.7.3)\n",
      "Requirement already satisfied: numpy>=1.17.3 in c:\\users\\ishan\\anaconda3\\lib\\site-packages (from imbalanced-learn->imblearn) (1.20.1)\n",
      "Installing collected packages: joblib, scikit-learn, imbalanced-learn, imblearn\n",
      "  Attempting uninstall: joblib\n",
      "    Found existing installation: joblib 1.1.0\n",
      "    Uninstalling joblib-1.1.0:\n",
      "      Successfully uninstalled joblib-1.1.0\n",
      "  Attempting uninstall: scikit-learn\n",
      "    Found existing installation: scikit-learn 0.24.1\n",
      "    Uninstalling scikit-learn-0.24.1:\n",
      "      Successfully uninstalled scikit-learn-0.24.1\n",
      "Successfully installed imbalanced-learn-0.10.1 imblearn-0.0 joblib-1.2.0 scikit-learn-1.2.1\n"
     ]
    }
   ],
   "source": [
    "# Installing imblearn library\n",
    "!pip install imblearn"
   ]
  },
  {
   "cell_type": "code",
   "execution_count": 1,
   "id": "516d0341",
   "metadata": {},
   "outputs": [],
   "source": [
    "# Importing libraries\n",
    "import tensorflow as tf\n",
    "import pandas as pd\n",
    "import numpy as np\n",
    "import matplotlib.pyplot as plt\n",
    "import seaborn as sns\n",
    "from sklearn.model_selection import train_test_split\n",
    "from sklearn.impute import SimpleImputer\n",
    "from imblearn.over_sampling import SMOTE\n",
    "import warnings\n",
    "warnings.filterwarnings('ignore') "
   ]
  },
  {
   "cell_type": "code",
   "execution_count": 2,
   "id": "8dee95d4",
   "metadata": {},
   "outputs": [],
   "source": [
    "# loading the dataset\n",
    "raw_data = r'D:\\College\\Term 4\\Project\\TBC-AIP-2023-A4_Deepsight-Analytics\\Data\\raw\\Deep Sight Analytics creditcard_cc.csv'\n",
    "df=pd.read_csv(raw_data)"
   ]
  },
  {
   "cell_type": "code",
   "execution_count": 3,
   "id": "e8e34ae8",
   "metadata": {},
   "outputs": [
    {
     "data": {
      "text/html": [
       "<div>\n",
       "<style scoped>\n",
       "    .dataframe tbody tr th:only-of-type {\n",
       "        vertical-align: middle;\n",
       "    }\n",
       "\n",
       "    .dataframe tbody tr th {\n",
       "        vertical-align: top;\n",
       "    }\n",
       "\n",
       "    .dataframe thead th {\n",
       "        text-align: right;\n",
       "    }\n",
       "</style>\n",
       "<table border=\"1\" class=\"dataframe\">\n",
       "  <thead>\n",
       "    <tr style=\"text-align: right;\">\n",
       "      <th></th>\n",
       "      <th>Time</th>\n",
       "      <th>V1</th>\n",
       "      <th>V2</th>\n",
       "      <th>V3</th>\n",
       "      <th>V4</th>\n",
       "      <th>V5</th>\n",
       "      <th>V6</th>\n",
       "      <th>V7</th>\n",
       "      <th>V8</th>\n",
       "      <th>V9</th>\n",
       "      <th>...</th>\n",
       "      <th>V21</th>\n",
       "      <th>V22</th>\n",
       "      <th>V23</th>\n",
       "      <th>V24</th>\n",
       "      <th>V25</th>\n",
       "      <th>V26</th>\n",
       "      <th>V27</th>\n",
       "      <th>V28</th>\n",
       "      <th>Amount</th>\n",
       "      <th>Class</th>\n",
       "    </tr>\n",
       "  </thead>\n",
       "  <tbody>\n",
       "    <tr>\n",
       "      <th>0</th>\n",
       "      <td>0.0</td>\n",
       "      <td>-1.359807</td>\n",
       "      <td>-0.072781</td>\n",
       "      <td>2.536347</td>\n",
       "      <td>1.378155</td>\n",
       "      <td>-0.338321</td>\n",
       "      <td>0.462388</td>\n",
       "      <td>0.239599</td>\n",
       "      <td>0.098698</td>\n",
       "      <td>0.363787</td>\n",
       "      <td>...</td>\n",
       "      <td>-0.018307</td>\n",
       "      <td>0.277838</td>\n",
       "      <td>-0.110474</td>\n",
       "      <td>0.066928</td>\n",
       "      <td>0.128539</td>\n",
       "      <td>-0.189115</td>\n",
       "      <td>0.133558</td>\n",
       "      <td>-0.021053</td>\n",
       "      <td>149.62</td>\n",
       "      <td>0</td>\n",
       "    </tr>\n",
       "    <tr>\n",
       "      <th>1</th>\n",
       "      <td>0.0</td>\n",
       "      <td>1.191857</td>\n",
       "      <td>0.266151</td>\n",
       "      <td>0.166480</td>\n",
       "      <td>0.448154</td>\n",
       "      <td>0.060018</td>\n",
       "      <td>-0.082361</td>\n",
       "      <td>-0.078803</td>\n",
       "      <td>0.085102</td>\n",
       "      <td>-0.255425</td>\n",
       "      <td>...</td>\n",
       "      <td>-0.225775</td>\n",
       "      <td>-0.638672</td>\n",
       "      <td>0.101288</td>\n",
       "      <td>-0.339846</td>\n",
       "      <td>0.167170</td>\n",
       "      <td>0.125895</td>\n",
       "      <td>-0.008983</td>\n",
       "      <td>0.014724</td>\n",
       "      <td>2.69</td>\n",
       "      <td>0</td>\n",
       "    </tr>\n",
       "    <tr>\n",
       "      <th>2</th>\n",
       "      <td>1.0</td>\n",
       "      <td>-1.358354</td>\n",
       "      <td>-1.340163</td>\n",
       "      <td>1.773209</td>\n",
       "      <td>0.379780</td>\n",
       "      <td>-0.503198</td>\n",
       "      <td>1.800499</td>\n",
       "      <td>0.791461</td>\n",
       "      <td>0.247676</td>\n",
       "      <td>-1.514654</td>\n",
       "      <td>...</td>\n",
       "      <td>0.247998</td>\n",
       "      <td>0.771679</td>\n",
       "      <td>0.909412</td>\n",
       "      <td>-0.689281</td>\n",
       "      <td>-0.327642</td>\n",
       "      <td>-0.139097</td>\n",
       "      <td>-0.055353</td>\n",
       "      <td>-0.059752</td>\n",
       "      <td>378.66</td>\n",
       "      <td>0</td>\n",
       "    </tr>\n",
       "    <tr>\n",
       "      <th>3</th>\n",
       "      <td>1.0</td>\n",
       "      <td>-0.966272</td>\n",
       "      <td>-0.185226</td>\n",
       "      <td>1.792993</td>\n",
       "      <td>-0.863291</td>\n",
       "      <td>-0.010309</td>\n",
       "      <td>1.247203</td>\n",
       "      <td>0.237609</td>\n",
       "      <td>0.377436</td>\n",
       "      <td>-1.387024</td>\n",
       "      <td>...</td>\n",
       "      <td>-0.108300</td>\n",
       "      <td>0.005274</td>\n",
       "      <td>-0.190321</td>\n",
       "      <td>-1.175575</td>\n",
       "      <td>0.647376</td>\n",
       "      <td>-0.221929</td>\n",
       "      <td>0.062723</td>\n",
       "      <td>0.061458</td>\n",
       "      <td>123.50</td>\n",
       "      <td>0</td>\n",
       "    </tr>\n",
       "    <tr>\n",
       "      <th>4</th>\n",
       "      <td>2.0</td>\n",
       "      <td>-1.158233</td>\n",
       "      <td>0.877737</td>\n",
       "      <td>1.548718</td>\n",
       "      <td>0.403034</td>\n",
       "      <td>-0.407193</td>\n",
       "      <td>0.095921</td>\n",
       "      <td>0.592941</td>\n",
       "      <td>-0.270533</td>\n",
       "      <td>0.817739</td>\n",
       "      <td>...</td>\n",
       "      <td>-0.009431</td>\n",
       "      <td>0.798278</td>\n",
       "      <td>-0.137458</td>\n",
       "      <td>0.141267</td>\n",
       "      <td>-0.206010</td>\n",
       "      <td>0.502292</td>\n",
       "      <td>0.219422</td>\n",
       "      <td>0.215153</td>\n",
       "      <td>69.99</td>\n",
       "      <td>0</td>\n",
       "    </tr>\n",
       "  </tbody>\n",
       "</table>\n",
       "<p>5 rows × 31 columns</p>\n",
       "</div>"
      ],
      "text/plain": [
       "   Time        V1        V2        V3        V4        V5        V6        V7  \\\n",
       "0   0.0 -1.359807 -0.072781  2.536347  1.378155 -0.338321  0.462388  0.239599   \n",
       "1   0.0  1.191857  0.266151  0.166480  0.448154  0.060018 -0.082361 -0.078803   \n",
       "2   1.0 -1.358354 -1.340163  1.773209  0.379780 -0.503198  1.800499  0.791461   \n",
       "3   1.0 -0.966272 -0.185226  1.792993 -0.863291 -0.010309  1.247203  0.237609   \n",
       "4   2.0 -1.158233  0.877737  1.548718  0.403034 -0.407193  0.095921  0.592941   \n",
       "\n",
       "         V8        V9  ...       V21       V22       V23       V24       V25  \\\n",
       "0  0.098698  0.363787  ... -0.018307  0.277838 -0.110474  0.066928  0.128539   \n",
       "1  0.085102 -0.255425  ... -0.225775 -0.638672  0.101288 -0.339846  0.167170   \n",
       "2  0.247676 -1.514654  ...  0.247998  0.771679  0.909412 -0.689281 -0.327642   \n",
       "3  0.377436 -1.387024  ... -0.108300  0.005274 -0.190321 -1.175575  0.647376   \n",
       "4 -0.270533  0.817739  ... -0.009431  0.798278 -0.137458  0.141267 -0.206010   \n",
       "\n",
       "        V26       V27       V28  Amount  Class  \n",
       "0 -0.189115  0.133558 -0.021053  149.62      0  \n",
       "1  0.125895 -0.008983  0.014724    2.69      0  \n",
       "2 -0.139097 -0.055353 -0.059752  378.66      0  \n",
       "3 -0.221929  0.062723  0.061458  123.50      0  \n",
       "4  0.502292  0.219422  0.215153   69.99      0  \n",
       "\n",
       "[5 rows x 31 columns]"
      ]
     },
     "execution_count": 3,
     "metadata": {},
     "output_type": "execute_result"
    }
   ],
   "source": [
    "df.head(5)"
   ]
  },
  {
   "cell_type": "code",
   "execution_count": 4,
   "id": "80b07ba7",
   "metadata": {},
   "outputs": [
    {
     "data": {
      "text/plain": [
       "(284807, 31)"
      ]
     },
     "execution_count": 4,
     "metadata": {},
     "output_type": "execute_result"
    }
   ],
   "source": [
    "# Checking size of creditcard Dataset\n",
    "df.shape"
   ]
  },
  {
   "cell_type": "code",
   "execution_count": 5,
   "id": "eb4751dc",
   "metadata": {},
   "outputs": [
    {
     "data": {
      "text/plain": [
       "0    284315\n",
       "1       492\n",
       "Name: Class, dtype: int64"
      ]
     },
     "execution_count": 5,
     "metadata": {},
     "output_type": "execute_result"
    }
   ],
   "source": [
    "df['Class'].value_counts()"
   ]
  },
  {
   "cell_type": "code",
   "execution_count": 6,
   "id": "8f7d5d3c",
   "metadata": {},
   "outputs": [
    {
     "data": {
      "text/plain": [
       "Text(0.5, 1.0, 'Distribution of the Class')"
      ]
     },
     "execution_count": 6,
     "metadata": {},
     "output_type": "execute_result"
    },
    {
     "data": {
      "image/png": "[encoded data removed]",
      "text/plain": [
       "<Figure size 432x288 with 1 Axes>"
      ]
     },
     "metadata": {
      "needs_background": "light"
     },
     "output_type": "display_data"
    }
   ],
   "source": [
    "sns.countplot(df['Class'])\n",
    "plt.title('Distribution of the Class')"
   ]
  },
  {
   "cell_type": "code",
   "execution_count": 7,
   "id": "dbaa68ab",
   "metadata": {},
   "outputs": [],
   "source": [
    "def split_dataset(features, target):\n",
    "    X_train, X_test, y_train, y_test = train_test_split(features, target, test_size = 0.25, random_state = 0)\n",
    "    train = pd.concat([pd.DataFrame(X_train), pd.DataFrame(y_train)], axis=1)\n",
    "    test = pd.concat([pd.DataFrame(X_test), pd.DataFrame(y_test)], axis=1)\n",
    "    \n",
    "    train_output = r'D:\\College\\Term 4\\Project\\TBC-AIP-2023-A4_Deepsight-Analytics\\Data\\processed\\Split_data\\Train.csv'\n",
    "    test_output = r'D:\\College\\Term 4\\Project\\TBC-AIP-2023-A4_Deepsight-Analytics\\Data\\processed\\Split_data\\Test.csv'\n",
    "\n",
    "\n",
    "    # save the train and test file as csv files\n",
    "    train.to_csv(train_output, index=False)\n",
    "    test.to_csv(test_output, index=False)\n",
    "    \n",
    "    print(\"X_train : \",X_train.shape)\n",
    "    print(\"X_test : \",X_test.shape)\n",
    "    print(\"y_train : \",y_train.shape)\n",
    "    print(\"y_test : \",y_test.shape)\n",
    "    return X_train, X_test, y_train, y_test"
   ]
  },
  {
   "cell_type": "code",
   "execution_count": 8,
   "id": "3c1e0940",
   "metadata": {},
   "outputs": [
    {
     "name": "stdout",
     "output_type": "stream",
     "text": [
      "X_train :  (213605, 30)\n",
      "X_test :  (71202, 30)\n",
      "y_train :  (213605,)\n",
      "y_test :  (71202,)\n"
     ]
    },
    {
     "data": {
      "text/plain": [
       "(            Time        V1        V2        V3        V4        V5        V6  \\\n",
       " 194763  130747.0  2.047163  0.107987 -1.806515  0.072733  0.248371 -1.744837   \n",
       " 135660   81344.0  1.282404  0.459864 -0.372286  0.826375  0.463568 -0.466407   \n",
       " 259186  159004.0 -0.414863  0.012026  1.356386  1.107374  0.813456 -0.156497   \n",
       " 87387    61662.0 -1.432948  1.478076  0.576724  0.207540 -0.670662 -0.464572   \n",
       " 267282  162703.0  2.051016 -0.016765 -2.284865  0.302168  0.786895 -0.998558   \n",
       " ...          ...       ...       ...       ...       ...       ...       ...   \n",
       " 211543  138459.0 -1.321976  1.138686 -0.940861  0.154160  0.109802 -0.538822   \n",
       " 86293    61167.0 -0.627810  0.918729  1.478453  0.213171  0.933695  1.261486   \n",
       " 122579   76616.0  1.512602 -0.949435 -0.219062 -1.638850 -0.856348 -0.465996   \n",
       " 152315   97253.0  1.798863 -1.699791 -0.142182 -0.619533 -1.570248  0.083268   \n",
       " 117952   74887.0 -0.589400  0.747828  1.784781  0.899612  0.257067 -0.001301   \n",
       " \n",
       "               V7        V8        V9  ...       V20       V21       V22  \\\n",
       " 194763  0.712448 -0.488842 -0.102709  ... -0.261380  0.241017  0.822618   \n",
       " 135660  0.460867 -0.186469 -0.549700  ... -0.096751  0.013986  0.083896   \n",
       " 259186 -0.372675  0.031095 -0.100143  ...  0.564341 -0.052272 -0.088160   \n",
       " 87387   0.221023 -0.099811  1.561896  ...  0.266179 -0.055014  0.364330   \n",
       " 267282  0.768990 -0.464383  0.362863  ... -0.139341  0.133331  0.491780   \n",
       " ...          ...       ...       ...  ...       ...       ...       ...   \n",
       " 211543  0.490058  0.513762 -0.493834  ... -0.436962 -0.012778 -0.237503   \n",
       " 86293   0.504752  0.404286 -0.939740  ...  0.088281 -0.051356 -0.004245   \n",
       " 122579 -0.669193 -0.135566 -2.284345  ... -0.279028 -0.558803 -1.377240   \n",
       " 152315 -1.501980  0.176287  1.755507  ...  0.146098  0.181914  0.351358   \n",
       " 117952  0.122334  0.034736 -0.283998  ...  0.047357 -0.008910  0.000367   \n",
       " \n",
       "              V23       V24       V25       V26       V27       V28  Amount  \n",
       " 194763  0.023000  0.549868  0.322173  0.191755 -0.085025 -0.084292    0.77  \n",
       " 135660 -0.247504 -0.325527  0.927293 -0.272555 -0.010168 -0.005332    1.79  \n",
       " 259186  0.062521 -0.680805 -0.641474 -0.159995  0.237628  0.204343    5.95  \n",
       " 87387   0.154670  0.635611 -0.366314  0.163690 -0.750285 -0.275117    9.20  \n",
       " 267282 -0.119020  0.527179  0.607105 -0.090453 -0.065787 -0.062680   47.53  \n",
       " ...          ...       ...       ...       ...       ...       ...     ...  \n",
       " 211543  0.008713 -0.767844 -0.397162  0.316379 -0.463125 -0.010589   49.89  \n",
       " 86293   0.090535 -0.964599 -0.522294  0.296733  0.145939  0.110400   24.99  \n",
       " 122579  0.080444 -0.579511  0.297851 -0.495367 -0.001415  0.003665   34.90  \n",
       " 152315  0.115638 -0.566188 -0.596200 -0.295152 -0.033616 -0.032471  171.31  \n",
       " 117952 -0.238139 -0.463529 -0.243573 -0.370920  0.086592  0.118084   15.99  \n",
       " \n",
       " [213605 rows x 30 columns],\n",
       "             Time        V1        V2        V3        V4        V5        V6  \\\n",
       " 183484  125821.0 -0.323334  1.057455 -0.048341 -0.607204  1.259821 -0.091761   \n",
       " 255448  157235.0 -0.349718  0.932619  0.142992 -0.657071  1.169784 -0.733369   \n",
       " 244749  152471.0 -1.614711 -2.406570  0.326194  0.665520  2.369268 -1.775367   \n",
       " 63919    50927.0 -2.477184  0.860613  1.441850  1.051019 -1.856621  2.078384   \n",
       " 11475    19899.0  1.338831 -0.547264  0.737389 -0.212383 -1.110039 -0.525744   \n",
       " ...          ...       ...       ...       ...       ...       ...       ...   \n",
       " 52247    45350.0 -0.636269  0.067181 -0.658105 -4.934328  2.452921  2.331746   \n",
       " 247905  153730.0 -0.341844 -0.460832  1.994289 -2.330592 -0.483342  1.016889   \n",
       " 78338    57481.0  1.403221 -0.439300  0.226985 -0.441392 -1.032073 -1.297741   \n",
       " 246056  153018.0 -3.231311  2.103140 -0.730148 -0.385608 -1.519507  1.564691   \n",
       " 40618    40319.0  1.257561 -0.724477 -0.083187 -0.493358 -1.073850 -1.258521   \n",
       " \n",
       "               V7        V8        V9  ...       V20       V21       V22  \\\n",
       " 183484  1.159101 -0.124335 -0.174640  ...  0.186409 -0.207098 -0.433890   \n",
       " 255448  1.009985 -0.071069 -0.302083  ... -0.096502 -0.271537 -0.833209   \n",
       " 244749 -1.139049  0.329904  0.903813  ...  0.419835  0.701399  1.134489   \n",
       " 63919   0.510828 -0.243399 -0.260691  ... -0.987790  0.810408  0.692245   \n",
       " 11475  -0.801403 -0.063672  0.997276  ... -0.126871 -0.139436 -0.074719   \n",
       " ...          ...       ...       ...  ...       ...       ...       ...   \n",
       " 52247   0.376664  0.772740  1.388861  ...  0.048667  0.013926  0.020320   \n",
       " 247905 -0.630853  0.418928  0.382330  ...  0.122827  0.117685  0.709898   \n",
       " 78338  -0.283598 -0.303040 -0.739786  ...  0.016217  0.168483  0.529781   \n",
       " 246056 -2.212881 -5.423842  0.442112  ... -1.949650  6.020833 -2.035860   \n",
       " 40618  -0.151375 -0.274688 -0.822144  ... -0.417133 -0.412953 -0.967496   \n",
       " \n",
       "              V23       V24       V25       V26       V27       V28  Amount  \n",
       " 183484 -0.261613 -0.046651  0.211512  0.008297  0.108494  0.161139   40.00  \n",
       " 255448 -0.030360  0.490035 -0.404816  0.134350  0.076830  0.175562    1.98  \n",
       " 244749  0.965054  0.640981 -1.801998 -1.041114  0.286285  0.437322   96.00  \n",
       " 63919   0.150121 -0.260777  0.005183 -0.177847 -0.510060 -0.660533  308.00  \n",
       " 11475   0.067055  0.333122  0.379087 -0.268706 -0.002769  0.003272    5.00  \n",
       " ...          ...       ...       ...       ...       ...       ...     ...  \n",
       " 52247  -0.208137  0.995300  0.331730 -1.150339  0.384712  0.199361   19.53  \n",
       " 247905 -0.239189  0.210119 -0.308926 -0.332812  0.251512 -0.015190    3.00  \n",
       " 78338  -0.120465  0.756187  0.736227 -0.084186 -0.010405  0.006489   10.00  \n",
       " 246056  1.130817 -0.554833 -1.005206 -0.156786  0.472313 -0.192529   99.99  \n",
       " 40618  -0.003968  0.366984  0.233025  1.007571 -0.101754  0.011956   90.00  \n",
       " \n",
       " [71202 rows x 30 columns],\n",
       " 194763    0\n",
       " 135660    0\n",
       " 259186    0\n",
       " 87387     0\n",
       " 267282    0\n",
       "          ..\n",
       " 211543    0\n",
       " 86293     0\n",
       " 122579    0\n",
       " 152315    0\n",
       " 117952    0\n",
       " Name: Class, Length: 213605, dtype: int64,\n",
       " 183484    0\n",
       " 255448    0\n",
       " 244749    0\n",
       " 63919     0\n",
       " 11475     0\n",
       "          ..\n",
       " 52247     0\n",
       " 247905    0\n",
       " 78338     0\n",
       " 246056    0\n",
       " 40618     0\n",
       " Name: Class, Length: 71202, dtype: int64)"
      ]
     },
     "execution_count": 8,
     "metadata": {},
     "output_type": "execute_result"
    }
   ],
   "source": [
    "split_dataset(df.drop('Class', axis=1), df['Class'])"
   ]
  }
 ],
 "metadata": {
  "kernelspec": {
   "display_name": "Python 3 (ipykernel)",
   "language": "python",
   "name": "python3"
  },
  "language_info": {
   "codemirror_mode": {
    "name": "ipython",
    "version": 3
   },
   "file_extension": ".py",
   "mimetype": "text/x-python",
   "name": "python",
   "nbconvert_exporter": "python",
   "pygments_lexer": "ipython3",
   "version": "3.8.8"
  }
 },
 "nbformat": 4,
 "nbformat_minor": 5
}
