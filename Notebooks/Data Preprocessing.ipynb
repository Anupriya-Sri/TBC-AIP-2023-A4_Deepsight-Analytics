{
 "cells": [
  {
   "cell_type": "markdown",
   "id": "0b01b32c",
   "metadata": {},
   "source": [
    "# Data Preprocessing"
   ]
  },
  {
   "cell_type": "code",
   "execution_count": 1,
   "id": "61486678",
   "metadata": {},
   "outputs": [
    {
     "name": "stdout",
     "output_type": "stream",
     "text": [
      "Requirement already satisfied: imblearn in c:\\users\\kashy\\anaconda3\\lib\\site-packages (0.0)\n",
      "Requirement already satisfied: imbalanced-learn in c:\\users\\kashy\\anaconda3\\lib\\site-packages (from imblearn) (0.10.1)\n",
      "Requirement already satisfied: threadpoolctl>=2.0.0 in c:\\users\\kashy\\anaconda3\\lib\\site-packages (from imbalanced-learn->imblearn) (2.2.0)\n",
      "Requirement already satisfied: scipy>=1.3.2 in c:\\users\\kashy\\anaconda3\\lib\\site-packages (from imbalanced-learn->imblearn) (1.7.3)\n",
      "Requirement already satisfied: numpy>=1.17.3 in c:\\users\\kashy\\anaconda3\\lib\\site-packages (from imbalanced-learn->imblearn) (1.21.5)\n",
      "Requirement already satisfied: scikit-learn>=1.0.2 in c:\\users\\kashy\\anaconda3\\lib\\site-packages (from imbalanced-learn->imblearn) (1.0.2)\n",
      "Requirement already satisfied: joblib>=1.1.1 in c:\\users\\kashy\\anaconda3\\lib\\site-packages (from imbalanced-learn->imblearn) (1.2.0)\n"
     ]
    }
   ],
   "source": [
    "# Installing imblearn library\n",
    "!pip install imblearn"
   ]
  },
  {
   "cell_type": "code",
   "execution_count": 1,
   "id": "516d0341",
   "metadata": {},
   "outputs": [],
   "source": [
    "# Importing libraries\n",
    "import tensorflow as tf\n",
    "import pandas as pd\n",
    "import numpy as np\n",
    "import matplotlib.pyplot as plt\n",
    "import seaborn as sns\n",
    "from sklearn.model_selection import train_test_split\n",
    "from sklearn.impute import SimpleImputer\n",
    "from imblearn.over_sampling import SMOTE\n",
    "import warnings\n",
    "warnings.filterwarnings('ignore') "
   ]
  },
  {
   "cell_type": "code",
   "execution_count": 2,
   "id": "8dee95d4",
   "metadata": {},
   "outputs": [],
   "source": [
    "# loading the dataset\n",
    "raw_data = r'D:\\College\\Term 4\\Project\\TBC-AIP-2023-A4_Deepsight-Analytics\\Data\\raw\\Deep Sight Analytics creditcard_cc.csv'\n",
    "df=pd.read_csv(raw_data)"
   ]
  },
  {
   "cell_type": "code",
   "execution_count": 3,
   "id": "e8e34ae8",
   "metadata": {},
   "outputs": [
    {
     "data": {
      "text/html": [
       "<div>\n",
       "<style scoped>\n",
       "    .dataframe tbody tr th:only-of-type {\n",
       "        vertical-align: middle;\n",
       "    }\n",
       "\n",
       "    .dataframe tbody tr th {\n",
       "        vertical-align: top;\n",
       "    }\n",
       "\n",
       "    .dataframe thead th {\n",
       "        text-align: right;\n",
       "    }\n",
       "</style>\n",
       "<table border=\"1\" class=\"dataframe\">\n",
       "  <thead>\n",
       "    <tr style=\"text-align: right;\">\n",
       "      <th></th>\n",
       "      <th>Time</th>\n",
       "      <th>V1</th>\n",
       "      <th>V2</th>\n",
       "      <th>V3</th>\n",
       "      <th>V4</th>\n",
       "      <th>V5</th>\n",
       "      <th>V6</th>\n",
       "      <th>V7</th>\n",
       "      <th>V8</th>\n",
       "      <th>V9</th>\n",
       "      <th>...</th>\n",
       "      <th>V21</th>\n",
       "      <th>V22</th>\n",
       "      <th>V23</th>\n",
       "      <th>V24</th>\n",
       "      <th>V25</th>\n",
       "      <th>V26</th>\n",
       "      <th>V27</th>\n",
       "      <th>V28</th>\n",
       "      <th>Amount</th>\n",
       "      <th>Class</th>\n",
       "    </tr>\n",
       "  </thead>\n",
       "  <tbody>\n",
       "    <tr>\n",
       "      <th>0</th>\n",
       "      <td>0.0</td>\n",
       "      <td>-1.359807</td>\n",
       "      <td>-0.072781</td>\n",
       "      <td>2.536347</td>\n",
       "      <td>1.378155</td>\n",
       "      <td>-0.338321</td>\n",
       "      <td>0.462388</td>\n",
       "      <td>0.239599</td>\n",
       "      <td>0.098698</td>\n",
       "      <td>0.363787</td>\n",
       "      <td>...</td>\n",
       "      <td>-0.018307</td>\n",
       "      <td>0.277838</td>\n",
       "      <td>-0.110474</td>\n",
       "      <td>0.066928</td>\n",
       "      <td>0.128539</td>\n",
       "      <td>-0.189115</td>\n",
       "      <td>0.133558</td>\n",
       "      <td>-0.021053</td>\n",
       "      <td>149.62</td>\n",
       "      <td>0</td>\n",
       "    </tr>\n",
       "    <tr>\n",
       "      <th>1</th>\n",
       "      <td>0.0</td>\n",
       "      <td>1.191857</td>\n",
       "      <td>0.266151</td>\n",
       "      <td>0.166480</td>\n",
       "      <td>0.448154</td>\n",
       "      <td>0.060018</td>\n",
       "      <td>-0.082361</td>\n",
       "      <td>-0.078803</td>\n",
       "      <td>0.085102</td>\n",
       "      <td>-0.255425</td>\n",
       "      <td>...</td>\n",
       "      <td>-0.225775</td>\n",
       "      <td>-0.638672</td>\n",
       "      <td>0.101288</td>\n",
       "      <td>-0.339846</td>\n",
       "      <td>0.167170</td>\n",
       "      <td>0.125895</td>\n",
       "      <td>-0.008983</td>\n",
       "      <td>0.014724</td>\n",
       "      <td>2.69</td>\n",
       "      <td>0</td>\n",
       "    </tr>\n",
       "    <tr>\n",
       "      <th>2</th>\n",
       "      <td>1.0</td>\n",
       "      <td>-1.358354</td>\n",
       "      <td>-1.340163</td>\n",
       "      <td>1.773209</td>\n",
       "      <td>0.379780</td>\n",
       "      <td>-0.503198</td>\n",
       "      <td>1.800499</td>\n",
       "      <td>0.791461</td>\n",
       "      <td>0.247676</td>\n",
       "      <td>-1.514654</td>\n",
       "      <td>...</td>\n",
       "      <td>0.247998</td>\n",
       "      <td>0.771679</td>\n",
       "      <td>0.909412</td>\n",
       "      <td>-0.689281</td>\n",
       "      <td>-0.327642</td>\n",
       "      <td>-0.139097</td>\n",
       "      <td>-0.055353</td>\n",
       "      <td>-0.059752</td>\n",
       "      <td>378.66</td>\n",
       "      <td>0</td>\n",
       "    </tr>\n",
       "    <tr>\n",
       "      <th>3</th>\n",
       "      <td>1.0</td>\n",
       "      <td>-0.966272</td>\n",
       "      <td>-0.185226</td>\n",
       "      <td>1.792993</td>\n",
       "      <td>-0.863291</td>\n",
       "      <td>-0.010309</td>\n",
       "      <td>1.247203</td>\n",
       "      <td>0.237609</td>\n",
       "      <td>0.377436</td>\n",
       "      <td>-1.387024</td>\n",
       "      <td>...</td>\n",
       "      <td>-0.108300</td>\n",
       "      <td>0.005274</td>\n",
       "      <td>-0.190321</td>\n",
       "      <td>-1.175575</td>\n",
       "      <td>0.647376</td>\n",
       "      <td>-0.221929</td>\n",
       "      <td>0.062723</td>\n",
       "      <td>0.061458</td>\n",
       "      <td>123.50</td>\n",
       "      <td>0</td>\n",
       "    </tr>\n",
       "    <tr>\n",
       "      <th>4</th>\n",
       "      <td>2.0</td>\n",
       "      <td>-1.158233</td>\n",
       "      <td>0.877737</td>\n",
       "      <td>1.548718</td>\n",
       "      <td>0.403034</td>\n",
       "      <td>-0.407193</td>\n",
       "      <td>0.095921</td>\n",
       "      <td>0.592941</td>\n",
       "      <td>-0.270533</td>\n",
       "      <td>0.817739</td>\n",
       "      <td>...</td>\n",
       "      <td>-0.009431</td>\n",
       "      <td>0.798278</td>\n",
       "      <td>-0.137458</td>\n",
       "      <td>0.141267</td>\n",
       "      <td>-0.206010</td>\n",
       "      <td>0.502292</td>\n",
       "      <td>0.219422</td>\n",
       "      <td>0.215153</td>\n",
       "      <td>69.99</td>\n",
       "      <td>0</td>\n",
       "    </tr>\n",
       "  </tbody>\n",
       "</table>\n",
       "<p>5 rows × 31 columns</p>\n",
       "</div>"
      ],
      "text/plain": [
       "   Time        V1        V2        V3        V4        V5        V6        V7  \\\n",
       "0   0.0 -1.359807 -0.072781  2.536347  1.378155 -0.338321  0.462388  0.239599   \n",
       "1   0.0  1.191857  0.266151  0.166480  0.448154  0.060018 -0.082361 -0.078803   \n",
       "2   1.0 -1.358354 -1.340163  1.773209  0.379780 -0.503198  1.800499  0.791461   \n",
       "3   1.0 -0.966272 -0.185226  1.792993 -0.863291 -0.010309  1.247203  0.237609   \n",
       "4   2.0 -1.158233  0.877737  1.548718  0.403034 -0.407193  0.095921  0.592941   \n",
       "\n",
       "         V8        V9  ...       V21       V22       V23       V24       V25  \\\n",
       "0  0.098698  0.363787  ... -0.018307  0.277838 -0.110474  0.066928  0.128539   \n",
       "1  0.085102 -0.255425  ... -0.225775 -0.638672  0.101288 -0.339846  0.167170   \n",
       "2  0.247676 -1.514654  ...  0.247998  0.771679  0.909412 -0.689281 -0.327642   \n",
       "3  0.377436 -1.387024  ... -0.108300  0.005274 -0.190321 -1.175575  0.647376   \n",
       "4 -0.270533  0.817739  ... -0.009431  0.798278 -0.137458  0.141267 -0.206010   \n",
       "\n",
       "        V26       V27       V28  Amount  Class  \n",
       "0 -0.189115  0.133558 -0.021053  149.62      0  \n",
       "1  0.125895 -0.008983  0.014724    2.69      0  \n",
       "2 -0.139097 -0.055353 -0.059752  378.66      0  \n",
       "3 -0.221929  0.062723  0.061458  123.50      0  \n",
       "4  0.502292  0.219422  0.215153   69.99      0  \n",
       "\n",
       "[5 rows x 31 columns]"
      ]
     },
     "execution_count": 3,
     "metadata": {},
     "output_type": "execute_result"
    }
   ],
   "source": [
    "df.head(5)"
   ]
  },
  {
   "cell_type": "code",
   "execution_count": 4,
   "id": "80b07ba7",
   "metadata": {},
   "outputs": [
    {
     "data": {
      "text/plain": [
       "(284807, 31)"
      ]
     },
     "execution_count": 4,
     "metadata": {},
     "output_type": "execute_result"
    }
   ],
   "source": [
    "# Checking size of creditcard Dataset\n",
    "df.shape"
   ]
  },
  {
   "cell_type": "code",
   "execution_count": 5,
   "id": "eb4751dc",
   "metadata": {},
   "outputs": [
    {
     "data": {
      "text/plain": [
       "0    284315\n",
       "1       492\n",
       "Name: Class, dtype: int64"
      ]
     },
     "execution_count": 5,
     "metadata": {},
     "output_type": "execute_result"
    }
   ],
   "source": [
    "df['Class'].value_counts()"
   ]
  },
  {
   "cell_type": "code",
   "execution_count": 6,
   "id": "8f7d5d3c",
   "metadata": {},
   "outputs": [
    {
     "data": {
      "text/plain": [
       "Text(0.5, 1.0, 'Distribution of the Class')"
      ]
     },
     "execution_count": 6,
     "metadata": {},
     "output_type": "execute_result"
    },
    {
     "data": {
      "image/png": "[encoded data removed]",
      "text/plain": [
       "<Figure size 432x288 with 1 Axes>"
      ]
     },
     "metadata": {
      "needs_background": "light"
     },
     "output_type": "display_data"
    }
   ],
   "source": [
    "sns.countplot(df['Class'])\n",
    "plt.title('Distribution of the Class')"
   ]
  },
  {
   "cell_type": "code",
   "execution_count": 7,
   "id": "dbaa68ab",
   "metadata": {},
   "outputs": [],
   "source": [
    "def split_dataset(features, target):\n",
    "    X_train, X_test, y_train, y_test = train_test_split(features, target, test_size = 0.25, random_state = 0)\n",
    "    train = pd.concat([pd.DataFrame(X_train), pd.DataFrame(y_train)], axis=1)\n",
    "    test = pd.concat([pd.DataFrame(X_test), pd.DataFrame(y_test)], axis=1)\n",
    "    \n",
    "    train_output = r'D:\\College\\Term 4\\Project\\TBC-AIP-2023-A4_Deepsight-Analytics\\Data\\processed\\Split_data\\Train.csv'\n",
    "    test_output = r'D:\\College\\Term 4\\Project\\TBC-AIP-2023-A4_Deepsight-Analytics\\Data\\processed\\Split_data\\Test.csv'\n",
    "\n",
    "    # save the train and test file as csv files\n",
    "    train.to_csv(train_output, index=False)\n",
    "    test.to_csv(test_output, index=False)\n",
    "     \n",
    "    # Printing the shape of train and test data\n",
    "    print(\"X_train : \",X_train.shape)\n",
    "    print(\"X_test : \",X_test.shape)\n",
    "    print(\"y_train : \",y_train.shape)\n",
    "    print(\"y_test : \",y_test.shape)\n",
    "    return X_train, X_test, y_train, y_test"
   ]
  },
  {
   "cell_type": "code",
   "execution_count": 8,
   "id": "3c1e0940",
   "metadata": {},
   "outputs": [
    {
     "name": "stdout",
     "output_type": "stream",
     "text": [
      "X_train :  (213605, 30)\n",
      "X_test :  (71202, 30)\n",
      "y_train :  (213605,)\n",
      "y_test :  (71202,)\n"
     ]
    },
    {
     "data": {
      "text/plain": [
       "(            Time        V1        V2        V3        V4        V5        V6  \\\n",
       " 194763  130747.0  2.047163  0.107987 -1.806515  0.072733  0.248371 -1.744837   \n",
       " 135660   81344.0  1.282404  0.459864 -0.372286  0.826375  0.463568 -0.466407   \n",
       " 259186  159004.0 -0.414863  0.012026  1.356386  1.107374  0.813456 -0.156497   \n",
       " 87387    61662.0 -1.432948  1.478076  0.576724  0.207540 -0.670662 -0.464572   \n",
       " 267282  162703.0  2.051016 -0.016765 -2.284865  0.302168  0.786895 -0.998558   \n",
       " ...          ...       ...       ...       ...       ...       ...       ...   \n",
       " 211543  138459.0 -1.321976  1.138686 -0.940861  0.154160  0.109802 -0.538822   \n",
       " 86293    61167.0 -0.627810  0.918729  1.478453  0.213171  0.933695  1.261486   \n",
       " 122579   76616.0  1.512602 -0.949435 -0.219062 -1.638850 -0.856348 -0.465996   \n",
       " 152315   97253.0  1.798863 -1.699791 -0.142182 -0.619533 -1.570248  0.083268   \n",
       " 117952   74887.0 -0.589400  0.747828  1.784781  0.899612  0.257067 -0.001301   \n",
       " \n",
       "               V7        V8        V9  ...       V20       V21       V22  \\\n",
       " 194763  0.712448 -0.488842 -0.102709  ... -0.261380  0.241017  0.822618   \n",
       " 135660  0.460867 -0.186469 -0.549700  ... -0.096751  0.013986  0.083896   \n",
       " 259186 -0.372675  0.031095 -0.100143  ...  0.564341 -0.052272 -0.088160   \n",
       " 87387   0.221023 -0.099811  1.561896  ...  0.266179 -0.055014  0.364330   \n",
       " 267282  0.768990 -0.464383  0.362863  ... -0.139341  0.133331  0.491780   \n",
       " ...          ...       ...       ...  ...       ...       ...       ...   \n",
       " 211543  0.490058  0.513762 -0.493834  ... -0.436962 -0.012778 -0.237503   \n",
       " 86293   0.504752  0.404286 -0.939740  ...  0.088281 -0.051356 -0.004245   \n",
       " 122579 -0.669193 -0.135566 -2.284345  ... -0.279028 -0.558803 -1.377240   \n",
       " 152315 -1.501980  0.176287  1.755507  ...  0.146098  0.181914  0.351358   \n",
       " 117952  0.122334  0.034736 -0.283998  ...  0.047357 -0.008910  0.000367   \n",
       " \n",
       "              V23       V24       V25       V26       V27       V28  Amount  \n",
       " 194763  0.023000  0.549868  0.322173  0.191755 -0.085025 -0.084292    0.77  \n",
       " 135660 -0.247504 -0.325527  0.927293 -0.272555 -0.010168 -0.005332    1.79  \n",
       " 259186  0.062521 -0.680805 -0.641474 -0.159995  0.237628  0.204343    5.95  \n",
       " 87387   0.154670  0.635611 -0.366314  0.163690 -0.750285 -0.275117    9.20  \n",
       " 267282 -0.119020  0.527179  0.607105 -0.090453 -0.065787 -0.062680   47.53  \n",
       " ...          ...       ...       ...       ...       ...       ...     ...  \n",
       " 211543  0.008713 -0.767844 -0.397162  0.316379 -0.463125 -0.010589   49.89  \n",
       " 86293   0.090535 -0.964599 -0.522294  0.296733  0.145939  0.110400   24.99  \n",
       " 122579  0.080444 -0.579511  0.297851 -0.495367 -0.001415  0.003665   34.90  \n",
       " 152315  0.115638 -0.566188 -0.596200 -0.295152 -0.033616 -0.032471  171.31  \n",
       " 117952 -0.238139 -0.463529 -0.243573 -0.370920  0.086592  0.118084   15.99  \n",
       " \n",
       " [213605 rows x 30 columns],\n",
       "             Time        V1        V2        V3        V4        V5        V6  \\\n",
       " 183484  125821.0 -0.323334  1.057455 -0.048341 -0.607204  1.259821 -0.091761   \n",
       " 255448  157235.0 -0.349718  0.932619  0.142992 -0.657071  1.169784 -0.733369   \n",
       " 244749  152471.0 -1.614711 -2.406570  0.326194  0.665520  2.369268 -1.775367   \n",
       " 63919    50927.0 -2.477184  0.860613  1.441850  1.051019 -1.856621  2.078384   \n",
       " 11475    19899.0  1.338831 -0.547264  0.737389 -0.212383 -1.110039 -0.525744   \n",
       " ...          ...       ...       ...       ...       ...       ...       ...   \n",
       " 52247    45350.0 -0.636269  0.067181 -0.658105 -4.934328  2.452921  2.331746   \n",
       " 247905  153730.0 -0.341844 -0.460832  1.994289 -2.330592 -0.483342  1.016889   \n",
       " 78338    57481.0  1.403221 -0.439300  0.226985 -0.441392 -1.032073 -1.297741   \n",
       " 246056  153018.0 -3.231311  2.103140 -0.730148 -0.385608 -1.519507  1.564691   \n",
       " 40618    40319.0  1.257561 -0.724477 -0.083187 -0.493358 -1.073850 -1.258521   \n",
       " \n",
       "               V7        V8        V9  ...       V20       V21       V22  \\\n",
       " 183484  1.159101 -0.124335 -0.174640  ...  0.186409 -0.207098 -0.433890   \n",
       " 255448  1.009985 -0.071069 -0.302083  ... -0.096502 -0.271537 -0.833209   \n",
       " 244749 -1.139049  0.329904  0.903813  ...  0.419835  0.701399  1.134489   \n",
       " 63919   0.510828 -0.243399 -0.260691  ... -0.987790  0.810408  0.692245   \n",
       " 11475  -0.801403 -0.063672  0.997276  ... -0.126871 -0.139436 -0.074719   \n",
       " ...          ...       ...       ...  ...       ...       ...       ...   \n",
       " 52247   0.376664  0.772740  1.388861  ...  0.048667  0.013926  0.020320   \n",
       " 247905 -0.630853  0.418928  0.382330  ...  0.122827  0.117685  0.709898   \n",
       " 78338  -0.283598 -0.303040 -0.739786  ...  0.016217  0.168483  0.529781   \n",
       " 246056 -2.212881 -5.423842  0.442112  ... -1.949650  6.020833 -2.035860   \n",
       " 40618  -0.151375 -0.274688 -0.822144  ... -0.417133 -0.412953 -0.967496   \n",
       " \n",
       "              V23       V24       V25       V26       V27       V28  Amount  \n",
       " 183484 -0.261613 -0.046651  0.211512  0.008297  0.108494  0.161139   40.00  \n",
       " 255448 -0.030360  0.490035 -0.404816  0.134350  0.076830  0.175562    1.98  \n",
       " 244749  0.965054  0.640981 -1.801998 -1.041114  0.286285  0.437322   96.00  \n",
       " 63919   0.150121 -0.260777  0.005183 -0.177847 -0.510060 -0.660533  308.00  \n",
       " 11475   0.067055  0.333122  0.379087 -0.268706 -0.002769  0.003272    5.00  \n",
       " ...          ...       ...       ...       ...       ...       ...     ...  \n",
       " 52247  -0.208137  0.995300  0.331730 -1.150339  0.384712  0.199361   19.53  \n",
       " 247905 -0.239189  0.210119 -0.308926 -0.332812  0.251512 -0.015190    3.00  \n",
       " 78338  -0.120465  0.756187  0.736227 -0.084186 -0.010405  0.006489   10.00  \n",
       " 246056  1.130817 -0.554833 -1.005206 -0.156786  0.472313 -0.192529   99.99  \n",
       " 40618  -0.003968  0.366984  0.233025  1.007571 -0.101754  0.011956   90.00  \n",
       " \n",
       " [71202 rows x 30 columns],\n",
       " 194763    0\n",
       " 135660    0\n",
       " 259186    0\n",
       " 87387     0\n",
       " 267282    0\n",
       "          ..\n",
       " 211543    0\n",
       " 86293     0\n",
       " 122579    0\n",
       " 152315    0\n",
       " 117952    0\n",
       " Name: Class, Length: 213605, dtype: int64,\n",
       " 183484    0\n",
       " 255448    0\n",
       " 244749    0\n",
       " 63919     0\n",
       " 11475     0\n",
       "          ..\n",
       " 52247     0\n",
       " 247905    0\n",
       " 78338     0\n",
       " 246056    0\n",
       " 40618     0\n",
       " Name: Class, Length: 71202, dtype: int64)"
      ]
     },
     "execution_count": 8,
     "metadata": {},
     "output_type": "execute_result"
    }
   ],
   "source": [
    "split_dataset(df.drop('Class', axis=1), df['Class'])"
   ]
  },
  {
   "cell_type": "markdown",
   "id": "c2fd8b14",
   "metadata": {},
   "source": [
    "## Balancing data "
   ]
  },
  {
   "cell_type": "code",
   "execution_count": 9,
   "id": "b2ce1602",
   "metadata": {},
   "outputs": [],
   "source": [
    "def oversampling(X_train, y_train):\n",
    "    sm = SMOTE(sampling_strategy='minority', random_state=7)\n",
    "    \n",
    "    train = pd.concat([pd.DataFrame(X_train), pd.DataFrame(y_train)], axis=1)\n",
    "    \n",
    "    oversampled_trainX, oversampled_trainY = sm.fit_resample(X_train, y_train)\n",
    "    oversampled_train = pd.concat([pd.DataFrame(oversampled_trainY), pd.DataFrame(oversampled_trainX)], axis=1)\n",
    "    oversampled_train = pd.concat([pd.DataFrame(oversampled_trainY), pd.DataFrame(oversampled_trainX)], axis=1)\n",
    "    \n",
    "    oversampleTrain_output = r'D:\\College\\Term 4\\Project\\TBC-AIP-2023-A4_Deepsight-Analytics\\Data\\processed\\oversampleTrain.csv'\n",
    "\n",
    "    # save the train and test file\n",
    "    # again using the '\\t' separator to create tab-separated-values files\n",
    "    oversampled_train.to_csv(oversampleTrain_output, index=False)\n",
    "    \n",
    "    print(\"Before OverSampling, value counts of class variable:\\n\",train['Class'].value_counts())\n",
    "    print(\"After OverSampling, value counts of class variable:\\n\",oversampled_train['Class'].value_counts())\n",
    "    \n",
    "    sns.countplot(oversampled_train['Class'])\n",
    "    plt.title('Distribution of the Class after SMOTE balancing')\n",
    "    \n",
    "    return oversampled_train, oversampled_trainX, oversampled_trainY"
   ]
  },
  {
   "cell_type": "code",
   "execution_count": 11,
   "id": "5fde5c24",
   "metadata": {},
   "outputs": [
    {
     "name": "stdout",
     "output_type": "stream",
     "text": [
      "Before OverSampling, value counts of class variable:\n",
      " 0    213233\n",
      "1       372\n",
      "Name: Class, dtype: int64\n",
      "After OverSampling, value counts of class variable:\n",
      " 0    213233\n",
      "1    213233\n",
      "Name: Class, dtype: int64\n"
     ]
    },
    {
     "data": {
      "text/plain": [
       "(        Class           Time         V1        V2         V3        V4  \\\n",
       " 0           0  130747.000000   2.047163  0.107987  -1.806515  0.072733   \n",
       " 1           0   81344.000000   1.282404  0.459864  -0.372286  0.826375   \n",
       " 2           0  159004.000000  -0.414863  0.012026   1.356386  1.107374   \n",
       " 3           0   61662.000000  -1.432948  1.478076   0.576724  0.207540   \n",
       " 4           0  162703.000000   2.051016 -0.016765  -2.284865  0.302168   \n",
       " ...       ...            ...        ...       ...        ...       ...   \n",
       " 426461      1   35918.464858  -3.863640  4.430372  -4.396129  5.343976   \n",
       " 426462      1   45475.661675  -0.650924  1.431128  -0.936096  1.299180   \n",
       " 426463      1   41253.301807 -10.928860  6.402622 -13.315809  8.870815   \n",
       " 426464      1   59649.223441  -3.434426  0.315842  -1.602072  3.721608   \n",
       " 426465      1  134239.229024   0.478977 -1.185994  -3.972341  1.861624   \n",
       " \n",
       "                V5        V6         V7        V8  ...       V20       V21  \\\n",
       " 0        0.248371 -1.744837   0.712448 -0.488842  ... -0.261380  0.241017   \n",
       " 1        0.463568 -0.466407   0.460867 -0.186469  ... -0.096751  0.013986   \n",
       " 2        0.813456 -0.156497  -0.372675  0.031095  ...  0.564341 -0.052272   \n",
       " 3       -0.670662 -0.464572   0.221023 -0.099811  ...  0.266179 -0.055014   \n",
       " 4        0.786895 -0.998558   0.768990 -0.464383  ... -0.139341  0.133331   \n",
       " ...           ...       ...        ...       ...  ...       ...       ...   \n",
       " 426461  -4.001106 -1.196930  -6.623476  2.698645  ...  0.748262  1.696722   \n",
       " 426462  -0.166600 -0.815012  -1.019333 -0.365023  ...  0.189964  0.679418   \n",
       " 426463 -10.336130 -2.796315 -13.018750  7.069164  ... -0.390445  2.496246   \n",
       " 426464   0.214722 -1.298598  -4.817540  0.299711  ... -0.010576  0.715250   \n",
       " 426465  -0.128122 -1.205916   0.622098 -0.400400  ...  1.391195  0.516031   \n",
       " \n",
       "              V22       V23       V24       V25       V26       V27       V28  \\\n",
       " 0       0.822618  0.023000  0.549868  0.322173  0.191755 -0.085025 -0.084292   \n",
       " 1       0.083896 -0.247504 -0.325527  0.927293 -0.272555 -0.010168 -0.005332   \n",
       " 2      -0.088160  0.062521 -0.680805 -0.641474 -0.159995  0.237628  0.204343   \n",
       " 3       0.364330  0.154670  0.635611 -0.366314  0.163690 -0.750285 -0.275117   \n",
       " 4       0.491780 -0.119020  0.527179  0.607105 -0.090453 -0.065787 -0.062680   \n",
       " ...          ...       ...       ...       ...       ...       ...       ...   \n",
       " 426461  0.832008 -0.159597  0.016453  0.071878  0.403437  0.589785  0.440460   \n",
       " 426462 -0.364787 -0.202110 -0.241846  0.182255 -0.530572  0.336279 -0.010152   \n",
       " 426463  0.151375 -0.023817  0.525010  0.174271  0.249334 -0.159943 -0.548316   \n",
       " 426464 -0.061916 -0.821424 -0.178465 -0.380245 -0.322106  0.415610 -0.538516   \n",
       " 426465 -0.239963 -0.628697  0.121784  0.243883 -0.198751  0.084890  0.197305   \n",
       " \n",
       "             Amount  \n",
       " 0         0.770000  \n",
       " 1         1.790000  \n",
       " 2         5.950000  \n",
       " 3         9.200000  \n",
       " 4        47.530000  \n",
       " ...            ...  \n",
       " 426461    7.284319  \n",
       " 426462   35.982874  \n",
       " 426463  104.246883  \n",
       " 426464   13.355533  \n",
       " 426465  660.220101  \n",
       " \n",
       " [426466 rows x 31 columns],\n",
       "                  Time         V1        V2         V3        V4         V5  \\\n",
       " 0       130747.000000   2.047163  0.107987  -1.806515  0.072733   0.248371   \n",
       " 1        81344.000000   1.282404  0.459864  -0.372286  0.826375   0.463568   \n",
       " 2       159004.000000  -0.414863  0.012026   1.356386  1.107374   0.813456   \n",
       " 3        61662.000000  -1.432948  1.478076   0.576724  0.207540  -0.670662   \n",
       " 4       162703.000000   2.051016 -0.016765  -2.284865  0.302168   0.786895   \n",
       " ...               ...        ...       ...        ...       ...        ...   \n",
       " 426461   35918.464858  -3.863640  4.430372  -4.396129  5.343976  -4.001106   \n",
       " 426462   45475.661675  -0.650924  1.431128  -0.936096  1.299180  -0.166600   \n",
       " 426463   41253.301807 -10.928860  6.402622 -13.315809  8.870815 -10.336130   \n",
       " 426464   59649.223441  -3.434426  0.315842  -1.602072  3.721608   0.214722   \n",
       " 426465  134239.229024   0.478977 -1.185994  -3.972341  1.861624  -0.128122   \n",
       " \n",
       "               V6         V7        V8        V9  ...       V20       V21  \\\n",
       " 0      -1.744837   0.712448 -0.488842 -0.102709  ... -0.261380  0.241017   \n",
       " 1      -0.466407   0.460867 -0.186469 -0.549700  ... -0.096751  0.013986   \n",
       " 2      -0.156497  -0.372675  0.031095 -0.100143  ...  0.564341 -0.052272   \n",
       " 3      -0.464572   0.221023 -0.099811  1.561896  ...  0.266179 -0.055014   \n",
       " 4      -0.998558   0.768990 -0.464383  0.362863  ... -0.139341  0.133331   \n",
       " ...          ...        ...       ...       ...  ...       ...       ...   \n",
       " 426461 -1.196930  -6.623476  2.698645 -4.688461  ...  0.748262  1.696722   \n",
       " 426462 -0.815012  -1.019333 -0.365023 -0.615457  ...  0.189964  0.679418   \n",
       " 426463 -2.796315 -13.018750  7.069164 -7.282790  ... -0.390445  2.496246   \n",
       " 426464 -1.298598  -4.817540  0.299711 -1.656380  ... -0.010576  0.715250   \n",
       " 426465 -1.205916   0.622098 -0.400400 -0.324961  ...  1.391195  0.516031   \n",
       " \n",
       "              V22       V23       V24       V25       V26       V27       V28  \\\n",
       " 0       0.822618  0.023000  0.549868  0.322173  0.191755 -0.085025 -0.084292   \n",
       " 1       0.083896 -0.247504 -0.325527  0.927293 -0.272555 -0.010168 -0.005332   \n",
       " 2      -0.088160  0.062521 -0.680805 -0.641474 -0.159995  0.237628  0.204343   \n",
       " 3       0.364330  0.154670  0.635611 -0.366314  0.163690 -0.750285 -0.275117   \n",
       " 4       0.491780 -0.119020  0.527179  0.607105 -0.090453 -0.065787 -0.062680   \n",
       " ...          ...       ...       ...       ...       ...       ...       ...   \n",
       " 426461  0.832008 -0.159597  0.016453  0.071878  0.403437  0.589785  0.440460   \n",
       " 426462 -0.364787 -0.202110 -0.241846  0.182255 -0.530572  0.336279 -0.010152   \n",
       " 426463  0.151375 -0.023817  0.525010  0.174271  0.249334 -0.159943 -0.548316   \n",
       " 426464 -0.061916 -0.821424 -0.178465 -0.380245 -0.322106  0.415610 -0.538516   \n",
       " 426465 -0.239963 -0.628697  0.121784  0.243883 -0.198751  0.084890  0.197305   \n",
       " \n",
       "             Amount  \n",
       " 0         0.770000  \n",
       " 1         1.790000  \n",
       " 2         5.950000  \n",
       " 3         9.200000  \n",
       " 4        47.530000  \n",
       " ...            ...  \n",
       " 426461    7.284319  \n",
       " 426462   35.982874  \n",
       " 426463  104.246883  \n",
       " 426464   13.355533  \n",
       " 426465  660.220101  \n",
       " \n",
       " [426466 rows x 30 columns],\n",
       " 0         0\n",
       " 1         0\n",
       " 2         0\n",
       " 3         0\n",
       " 4         0\n",
       "          ..\n",
       " 426461    1\n",
       " 426462    1\n",
       " 426463    1\n",
       " 426464    1\n",
       " 426465    1\n",
       " Name: Class, Length: 426466, dtype: int64)"
      ]
     },
     "execution_count": 11,
     "metadata": {},
     "output_type": "execute_result"
    },
    {
     "data": {
      "image/png": "[encoded data removed]",
      "text/plain": [
       "<Figure size 432x288 with 1 Axes>"
      ]
     },
     "metadata": {
      "needs_background": "light"
     },
     "output_type": "display_data"
    }
   ],
   "source": [
    "train_data = r'D:\\College\\Term 4\\Project\\TBC-AIP-2023-A4_Deepsight-Analytics\\Data\\processed\\Split_data\\Train.csv'\n",
    "df_train=pd.read_csv(train_data)\n",
    "oversampling(df_train.drop('Class', axis=1), df_train['Class'])"
   ]
  },
  {
   "cell_type": "markdown",
   "id": "9a81a88e",
   "metadata": {},
   "source": [
    "# Floating"
   ]
  },
  {
   "cell_type": "code",
   "execution_count": 12,
   "id": "ec91824a",
   "metadata": {},
   "outputs": [
    {
     "data": {
      "text/plain": [
       "Time      0\n",
       "V1        0\n",
       "V2        0\n",
       "V3        0\n",
       "V4        0\n",
       "V5        0\n",
       "V6        0\n",
       "V7        0\n",
       "V8        0\n",
       "V9        0\n",
       "V10       0\n",
       "V11       0\n",
       "V12       0\n",
       "V13       0\n",
       "V14       0\n",
       "V15       0\n",
       "V16       0\n",
       "V17       0\n",
       "V18       0\n",
       "V19       0\n",
       "V20       0\n",
       "V21       0\n",
       "V22       0\n",
       "V23       0\n",
       "V24       0\n",
       "V25       0\n",
       "V26       0\n",
       "V27       0\n",
       "V28       0\n",
       "Amount    0\n",
       "Class     0\n",
       "dtype: int64"
      ]
     },
     "execution_count": 12,
     "metadata": {},
     "output_type": "execute_result"
    }
   ],
   "source": [
    "df_train.isna().sum()"
   ]
  },
  {
   "cell_type": "code",
   "execution_count": 13,
   "id": "2fc6b55d",
   "metadata": {},
   "outputs": [],
   "source": [
    "oversampleTrain_data = r'D:\\College\\Term 4\\Project\\TBC-AIP-2023-A4_Deepsight-Analytics\\Data\\processed\\oversampleTrain.csv'\n",
    "df_oversample_train=pd.read_csv(oversampleTrain_data)"
   ]
  },
  {
   "cell_type": "markdown",
   "id": "7aa9ddfe",
   "metadata": {},
   "source": [
    "## Missing value imputation"
   ]
  },
  {
   "cell_type": "code",
   "execution_count": 14,
   "id": "73eaa1ab",
   "metadata": {},
   "outputs": [],
   "source": [
    "def missing_value():\n",
    "    df_train_mean = df_oversample_train.copy()    \n",
    "    mean_imputer = SimpleImputer(strategy='mean')\n",
    "    mean_imputer.fit_transform(df_train_mean)\n",
    "    return df_train_mean\n",
    "\n",
    "df_train_mean = missing_value()"
   ]
  },
  {
   "cell_type": "markdown",
   "id": "ec998408",
   "metadata": {},
   "source": [
    "## Scaling data "
   ]
  },
  {
   "cell_type": "code",
   "execution_count": 15,
   "id": "4b9594b9",
   "metadata": {},
   "outputs": [],
   "source": [
    "# Scale the data using min-max scaler\n",
    "\n",
    "from sklearn.preprocessing import MinMaxScaler\n",
    "scaler = MinMaxScaler()\n",
    "Min_Max_Scale_df = scaler.fit_transform(df_train_mean)"
   ]
  },
  {
   "cell_type": "code",
   "execution_count": 16,
   "id": "58fc2938",
   "metadata": {},
   "outputs": [
    {
     "name": "stdout",
     "output_type": "stream",
     "text": [
      "[[0.00000000e+00 7.56672763e-01 9.91791714e-01 ... 6.47520093e-01\n",
      "  3.38662274e-01 3.91727329e-05]\n",
      " [0.00000000e+00 4.70762535e-01 9.76281552e-01 ... 6.49676226e-01\n",
      "  3.40962224e-01 9.10638856e-05]\n",
      " [0.00000000e+00 9.20204639e-01 9.41859072e-01 ... 6.56813590e-01\n",
      "  3.47069685e-01 3.02698391e-04]\n",
      " ...\n",
      " [1.00000000e+00 2.38745438e-01 7.28623403e-01 ... 6.45362197e-01\n",
      "  3.25146070e-01 5.30342250e-03]\n",
      " [1.00000000e+00 3.45208247e-01 8.80618934e-01 ... 6.61940094e-01\n",
      "  3.25431534e-01 6.79445105e-04]\n",
      " [1.00000000e+00 7.76883357e-01 9.59987134e-01 ... 6.52414225e-01\n",
      "  3.46864688e-01 3.35878256e-02]]\n"
     ]
    }
   ],
   "source": [
    "print(scaler.transform(df_train_mean))"
   ]
  },
  {
   "cell_type": "code",
   "execution_count": 17,
   "id": "8cffb59e",
   "metadata": {},
   "outputs": [
    {
     "name": "stdout",
     "output_type": "stream",
     "text": [
      "[1.00000000e+00 1.72792000e+05 2.45188849e+00 2.20577290e+01\n",
      " 9.38255843e+00 1.68753440e+01 3.40993093e+01 2.39178371e+01\n",
      " 4.40544614e+01 2.00072084e+01 1.55949946e+01 2.37451361e+01\n",
      " 1.20189132e+01 7.84839208e+00 4.56900896e+00 1.05267661e+01\n",
      " 5.82565432e+00 7.05913181e+00 9.20705854e+00 5.04106919e+00\n",
      " 5.57211333e+00 3.94209042e+01 2.72028392e+01 1.05030901e+01\n",
      " 2.25284117e+01 4.02286589e+00 7.51958868e+00 3.46324565e+00\n",
      " 1.21524011e+01 2.26200722e+01 1.96565300e+04]\n"
     ]
    }
   ],
   "source": [
    "print(scaler.data_max_)"
   ]
  },
  {
   "cell_type": "code",
   "execution_count": 18,
   "id": "9c117626",
   "metadata": {},
   "outputs": [
    {
     "name": "stdout",
     "output_type": "stream",
     "text": [
      "                  0              1              2              3   \\\n",
      "count  426466.000000  426466.000000  426466.000000  426466.000000   \n",
      "mean        0.500000       0.506393       0.897595       0.764543   \n",
      "std         0.500001       0.278219       0.116237       0.044164   \n",
      "min         0.000000       0.000000       0.000000       0.000000   \n",
      "25%         0.000000       0.260707       0.886526       0.740637   \n",
      "50%         0.500000       0.457894       0.933668       0.753458   \n",
      "75%         1.000000       0.775464       0.967449       0.775441   \n",
      "max         1.000000       1.000000       1.000000       1.000000   \n",
      "\n",
      "                  4              5              6              7   \\\n",
      "count  426466.000000  426466.000000  426466.000000  426466.000000   \n",
      "mean        0.696487       0.353475       0.530024       0.480774   \n",
      "std         0.145407       0.135836       0.057364       0.036645   \n",
      "min         0.000000       0.000000       0.000000       0.000000   \n",
      "25%         0.659097       0.249374       0.528565       0.463321   \n",
      "50%         0.746723       0.316584       0.546765       0.481060   \n",
      "75%         0.788391       0.447277       0.558226       0.496285   \n",
      "max         1.000000       1.000000       1.000000       1.000000   \n",
      "\n",
      "                  8              9   ...             21             22  \\\n",
      "count  426466.000000  426466.000000  ...  426466.000000  426466.000000   \n",
      "mean        0.463071       0.788651  ...       0.377740       0.568989   \n",
      "std         0.066718       0.058255  ...       0.017071       0.049812   \n",
      "min         0.000000       0.000000  ...       0.000000       0.000000   \n",
      "25%         0.461194       0.783353  ...       0.371847       0.559139   \n",
      "50%         0.488357       0.787231  ...       0.375439       0.564442   \n",
      "75%         0.499136       0.794490  ...       0.381524       0.572416   \n",
      "max         1.000000       1.000000  ...       1.000000       1.000000   \n",
      "\n",
      "                  23             24             25             26  \\\n",
      "count  426466.000000  426466.000000  426466.000000  426466.000000   \n",
      "mean        0.508216       0.665351       0.405243       0.579826   \n",
      "std         0.057871       0.016343       0.078418       0.035564   \n",
      "min         0.000000       0.000000       0.000000       0.000000   \n",
      "25%         0.485346       0.662008       0.357703       0.560837   \n",
      "50%         0.510395       0.665042       0.411988       0.580770   \n",
      "75%         0.534664       0.668190       0.461608       0.598710   \n",
      "max         1.000000       1.000000       1.000000       1.000000   \n",
      "\n",
      "                  27             28             29             30  \n",
      "count  426466.000000  426466.000000  426466.000000  426466.000000  \n",
      "mean        0.434041       0.650992       0.342465       0.005035  \n",
      "std         0.074304       0.028492       0.011563       0.011090  \n",
      "min         0.000000       0.000000       0.000000       0.000000  \n",
      "25%         0.385859       0.647752       0.339459       0.000222  \n",
      "50%         0.428255       0.651384       0.342204       0.001508  \n",
      "75%         0.479288       0.661826       0.347258       0.005087  \n",
      "max         1.000000       1.000000       1.000000       1.000000  \n",
      "\n",
      "[8 rows x 31 columns]\n"
     ]
    }
   ],
   "source": [
    "# convert the array back to a dataframe\n",
    "scaler_dataset = pd.DataFrame(Min_Max_Scale_df)\n",
    "# summarize\n",
    "print(scaler_dataset.describe())"
   ]
  },
  {
   "cell_type": "code",
   "execution_count": 19,
   "id": "a5d7b1b4",
   "metadata": {},
   "outputs": [
    {
     "data": {
      "image/png": "[encoded data removed]",
      "text/plain": [
       "<Figure size 432x288 with 36 Axes>"
      ]
     },
     "metadata": {
      "needs_background": "light"
     },
     "output_type": "display_data"
    }
   ],
   "source": [
    "# histograms of the variables\n",
    "scaler_dataset.hist()\n",
    "plt.show()"
   ]
  },
  {
   "cell_type": "code",
   "execution_count": null,
   "id": "88b30a4d",
   "metadata": {},
   "outputs": [],
   "source": []
  }
 ],
 "metadata": {
  "kernelspec": {
   "display_name": "Python 3 (ipykernel)",
   "language": "python",
   "name": "python3"
  },
  "language_info": {
   "codemirror_mode": {
    "name": "ipython",
    "version": 3
   },
   "file_extension": ".py",
   "mimetype": "text/x-python",
   "name": "python",
   "nbconvert_exporter": "python",
   "pygments_lexer": "ipython3",
   "version": "3.8.8"
  }
 },
 "nbformat": 4,
 "nbformat_minor": 5
}
